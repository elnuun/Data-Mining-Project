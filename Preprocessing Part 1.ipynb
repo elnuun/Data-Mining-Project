{
 "cells": [
  {
   "cell_type": "markdown",
   "metadata": {},
   "source": [
    "## DATA MINING FINAL PROJECT NOTEBOOK (Pt 1)"
   ]
  },
  {
   "cell_type": "markdown",
   "metadata": {},
   "source": [
    "As loading all the code together in one jupyter notebook would be too heavy  for the group to upload it aswell as for the teachers to run it, if needed, the code is divided into 3 different jupyters, as follows:\n",
    "\n",
    "- Pt1: Preprocessing pt1\n",
    "- Pt2: Preprocessing pt2\n",
    "- Pt3: Clustering"
   ]
  },
  {
   "cell_type": "markdown",
   "metadata": {},
   "source": [
    "* [1. Importing packages and data exploration](#1.)\n",
    "\n",
    "\n",
    "* [2. Data Preparation](#2.)\n",
    "    * [2.1. Adjustments](#2.1.)\n",
    "    * [2.2. Metric and Categorical Variables](#2.2.)\n",
    "    * [2.3. Missing Values - Donors](#2.3.)\n",
    "    * [2.4. Handling Outliers](#2.4.)\n",
    "    * [2.4.1. Univariate Normal Distribution](#2.4.1.)\n",
    "    * [2.4.2. Univariate Outliers](#2.4.2.)\n",
    "    * [2.4.3. Multivariate Outliers](#2.4.3.)\n",
    "    * [2.5. Missing Values - Info](#2.5.)\n",
    "    * [2.6. Handling Outliers](#2.6.)\n",
    "    * [2.6.1. Univariate Normal Distribution](#2.6.1.)\n",
    "    * [2.6.2. Univariate Outliers](#2.6.2.)\n",
    "    * [2.6.3. Multivariate Outliers](#2.6.4.)\n"
   ]
  },
  {
   "cell_type": "markdown",
   "metadata": {},
   "source": [
    "<hr>\n",
    "<a class=\"anchor\" id=\"1.\">\n",
    "    \n",
    "# 1. Importing stuff and reading them\n",
    "    \n",
    "</a>"
   ]
  },
  {
   "cell_type": "code",
   "execution_count": 1,
   "metadata": {},
   "outputs": [],
   "source": [
    "import sqlite3\n",
    "import os\n",
    "import pandas as pd\n",
    "import numpy as np\n",
    "import matplotlib.pyplot as plt\n",
    "%matplotlib inline\n",
    "import seaborn as sns\n",
    "from math import ceil\n",
    "import statsmodels as sm\n",
    "import scipy as sp\n",
    "from datetime import datetime\n",
    "from sklearn.impute import KNNImputer\n",
    "import sklearn.preprocessing as prep\n",
    "import statsmodels.api as statsm\n",
    "import sklearn.neighbors as neighb \n",
    "import matplotlib.colors as colors\n",
    "import scipy.stats as stats \n",
    "import sklearn.preprocessing as prep\n",
    "import sklearn.impute as imp\n",
    "import matplotlib.gridspec as gspec\n",
    "import matplotlib.cm as cm\n",
    "import feature_engine.missing_data_imputers as mdi\n",
    "from sklearn.decomposition import PCA\n",
    "from pandas_profiling import ProfileReport\n",
    "from scipy.stats import chi2_contingency\n",
    "from math import ceil\n",
    "from sklearn.preprocessing import MinMaxScaler, StandardScaler, OneHotEncoder, OrdinalEncoder\n",
    "from scipy.stats import spearmanr\n",
    "import category_encoders as ce\n",
    "import warnings\n",
    "warnings.filterwarnings(\"ignore\")\n",
    "\n",
    "sns.set()"
   ]
  },
  {
   "cell_type": "code",
   "execution_count": 2,
   "metadata": {},
   "outputs": [
    {
     "name": "stdout",
     "output_type": "stream",
     "text": [
      "\n",
      ": boolean\n",
      "    use_inf_as_null had been deprecated and will be removed in a future\n",
      "    version. Use `use_inf_as_na` instead.\n",
      "\n"
     ]
    }
   ],
   "source": [
    "pd.reset_option('all')"
   ]
  },
  {
   "cell_type": "code",
   "execution_count": 3,
   "metadata": {},
   "outputs": [],
   "source": [
    "df = pd.read_csv(r'.\\gw_data\\donors.csv')"
   ]
  },
  {
   "cell_type": "code",
   "execution_count": 4,
   "metadata": {},
   "outputs": [],
   "source": [
    "df = df.drop(columns = 'Unnamed: 0')"
   ]
  },
  {
   "cell_type": "code",
   "execution_count": 5,
   "metadata": {},
   "outputs": [
    {
     "data": {
      "text/plain": [
       "(95412, 475)"
      ]
     },
     "execution_count": 5,
     "metadata": {},
     "output_type": "execute_result"
    }
   ],
   "source": [
    "df.shape"
   ]
  },
  {
   "cell_type": "code",
   "execution_count": 6,
   "metadata": {},
   "outputs": [
    {
     "data": {
      "text/html": [
       "<div>\n",
       "<style scoped>\n",
       "    .dataframe tbody tr th:only-of-type {\n",
       "        vertical-align: middle;\n",
       "    }\n",
       "\n",
       "    .dataframe tbody tr th {\n",
       "        vertical-align: top;\n",
       "    }\n",
       "\n",
       "    .dataframe thead th {\n",
       "        text-align: right;\n",
       "    }\n",
       "</style>\n",
       "<table border=\"1\" class=\"dataframe\">\n",
       "  <thead>\n",
       "    <tr style=\"text-align: right;\">\n",
       "      <th></th>\n",
       "      <th>ODATEDW</th>\n",
       "      <th>OSOURCE</th>\n",
       "      <th>TCODE</th>\n",
       "      <th>STATE</th>\n",
       "      <th>ZIP</th>\n",
       "      <th>MAILCODE</th>\n",
       "      <th>PVASTATE</th>\n",
       "      <th>DOB</th>\n",
       "      <th>NOEXCH</th>\n",
       "      <th>RECINHSE</th>\n",
       "      <th>...</th>\n",
       "      <th>AVGGIFT</th>\n",
       "      <th>CONTROLN</th>\n",
       "      <th>HPHONE_D</th>\n",
       "      <th>RFA_2R</th>\n",
       "      <th>RFA_2F</th>\n",
       "      <th>RFA_2A</th>\n",
       "      <th>MDMAUD_R</th>\n",
       "      <th>MDMAUD_F</th>\n",
       "      <th>MDMAUD_A</th>\n",
       "      <th>GEOCODE2</th>\n",
       "    </tr>\n",
       "  </thead>\n",
       "  <tbody>\n",
       "    <tr>\n",
       "      <th>0</th>\n",
       "      <td>2009-01-01</td>\n",
       "      <td>GRI</td>\n",
       "      <td>0</td>\n",
       "      <td>IL</td>\n",
       "      <td>61081</td>\n",
       "      <td></td>\n",
       "      <td></td>\n",
       "      <td>1957-12-01</td>\n",
       "      <td>0</td>\n",
       "      <td></td>\n",
       "      <td>...</td>\n",
       "      <td>7.741935</td>\n",
       "      <td>95515</td>\n",
       "      <td>0</td>\n",
       "      <td>L</td>\n",
       "      <td>4</td>\n",
       "      <td>E</td>\n",
       "      <td>X</td>\n",
       "      <td>X</td>\n",
       "      <td>X</td>\n",
       "      <td>C</td>\n",
       "    </tr>\n",
       "    <tr>\n",
       "      <th>1</th>\n",
       "      <td>2014-01-01</td>\n",
       "      <td>BOA</td>\n",
       "      <td>1</td>\n",
       "      <td>CA</td>\n",
       "      <td>91326</td>\n",
       "      <td></td>\n",
       "      <td></td>\n",
       "      <td>1972-02-01</td>\n",
       "      <td>0</td>\n",
       "      <td></td>\n",
       "      <td>...</td>\n",
       "      <td>15.666667</td>\n",
       "      <td>148535</td>\n",
       "      <td>0</td>\n",
       "      <td>L</td>\n",
       "      <td>2</td>\n",
       "      <td>G</td>\n",
       "      <td>X</td>\n",
       "      <td>X</td>\n",
       "      <td>X</td>\n",
       "      <td>A</td>\n",
       "    </tr>\n",
       "    <tr>\n",
       "      <th>2</th>\n",
       "      <td>2010-01-01</td>\n",
       "      <td>AMH</td>\n",
       "      <td>1</td>\n",
       "      <td>NC</td>\n",
       "      <td>27017</td>\n",
       "      <td></td>\n",
       "      <td></td>\n",
       "      <td>NaN</td>\n",
       "      <td>0</td>\n",
       "      <td></td>\n",
       "      <td>...</td>\n",
       "      <td>7.481481</td>\n",
       "      <td>15078</td>\n",
       "      <td>1</td>\n",
       "      <td>L</td>\n",
       "      <td>4</td>\n",
       "      <td>E</td>\n",
       "      <td>X</td>\n",
       "      <td>X</td>\n",
       "      <td>X</td>\n",
       "      <td>C</td>\n",
       "    </tr>\n",
       "    <tr>\n",
       "      <th>3</th>\n",
       "      <td>2007-01-01</td>\n",
       "      <td>BRY</td>\n",
       "      <td>0</td>\n",
       "      <td>CA</td>\n",
       "      <td>95953</td>\n",
       "      <td></td>\n",
       "      <td></td>\n",
       "      <td>1948-01-01</td>\n",
       "      <td>0</td>\n",
       "      <td></td>\n",
       "      <td>...</td>\n",
       "      <td>6.812500</td>\n",
       "      <td>172556</td>\n",
       "      <td>1</td>\n",
       "      <td>L</td>\n",
       "      <td>4</td>\n",
       "      <td>E</td>\n",
       "      <td>X</td>\n",
       "      <td>X</td>\n",
       "      <td>X</td>\n",
       "      <td>C</td>\n",
       "    </tr>\n",
       "    <tr>\n",
       "      <th>4</th>\n",
       "      <td>2006-01-01</td>\n",
       "      <td></td>\n",
       "      <td>0</td>\n",
       "      <td>FL</td>\n",
       "      <td>33176</td>\n",
       "      <td></td>\n",
       "      <td></td>\n",
       "      <td>1940-01-01</td>\n",
       "      <td>0</td>\n",
       "      <td>X</td>\n",
       "      <td>...</td>\n",
       "      <td>6.864865</td>\n",
       "      <td>7112</td>\n",
       "      <td>1</td>\n",
       "      <td>L</td>\n",
       "      <td>2</td>\n",
       "      <td>F</td>\n",
       "      <td>X</td>\n",
       "      <td>X</td>\n",
       "      <td>X</td>\n",
       "      <td>A</td>\n",
       "    </tr>\n",
       "  </tbody>\n",
       "</table>\n",
       "<p>5 rows × 475 columns</p>\n",
       "</div>"
      ],
      "text/plain": [
       "      ODATEDW OSOURCE  TCODE STATE    ZIP MAILCODE PVASTATE         DOB  \\\n",
       "0  2009-01-01     GRI      0    IL  61081                    1957-12-01   \n",
       "1  2014-01-01     BOA      1    CA  91326                    1972-02-01   \n",
       "2  2010-01-01     AMH      1    NC  27017                           NaN   \n",
       "3  2007-01-01     BRY      0    CA  95953                    1948-01-01   \n",
       "4  2006-01-01              0    FL  33176                    1940-01-01   \n",
       "\n",
       "  NOEXCH RECINHSE  ...    AVGGIFT CONTROLN HPHONE_D RFA_2R RFA_2F RFA_2A  \\\n",
       "0      0           ...   7.741935    95515        0      L      4      E   \n",
       "1      0           ...  15.666667   148535        0      L      2      G   \n",
       "2      0           ...   7.481481    15078        1      L      4      E   \n",
       "3      0           ...   6.812500   172556        1      L      4      E   \n",
       "4      0        X  ...   6.864865     7112        1      L      2      F   \n",
       "\n",
       "  MDMAUD_R MDMAUD_F MDMAUD_A GEOCODE2  \n",
       "0        X        X        X        C  \n",
       "1        X        X        X        A  \n",
       "2        X        X        X        C  \n",
       "3        X        X        X        C  \n",
       "4        X        X        X        A  \n",
       "\n",
       "[5 rows x 475 columns]"
      ]
     },
     "execution_count": 6,
     "metadata": {},
     "output_type": "execute_result"
    }
   ],
   "source": [
    "df.head()"
   ]
  },
  {
   "cell_type": "markdown",
   "metadata": {},
   "source": [
    "<hr>\n",
    "<a class=\"anchor\" id=\"2.\">\n",
    "    \n",
    "# 2. Data Preparation\n",
    "    \n",
    "</a>"
   ]
  },
  {
   "cell_type": "markdown",
   "metadata": {},
   "source": [
    "The preprocessing will consist on making some engineering in order to better understand the data and then remove columns that have a very large number of missing values (>40%). In the final version, variables with >70% missing values are removed. "
   ]
  },
  {
   "cell_type": "markdown",
   "metadata": {},
   "source": [
    "<hr>\n",
    "<a class=\"anchor\" id=\"2.1.\">\n",
    "    \n",
    "# 2.1. Adjustments\n",
    "    \n",
    "</a>"
   ]
  },
  {
   "cell_type": "code",
   "execution_count": 7,
   "metadata": {},
   "outputs": [],
   "source": [
    "df_nan = df.copy()"
   ]
  },
  {
   "cell_type": "code",
   "execution_count": 8,
   "metadata": {},
   "outputs": [
    {
     "name": "stdout",
     "output_type": "stream",
     "text": [
      "\n",
      ": boolean\n",
      "    use_inf_as_null had been deprecated and will be removed in a future\n",
      "    version. Use `use_inf_as_na` instead.\n",
      "\n"
     ]
    }
   ],
   "source": [
    "# ADJUSTMENTS TO MAKE IT EASY TO READ DATA BASED ON METADATA\n",
    "\n",
    "pd.reset_option('all')\n",
    "df_nan['NEXTDATE'].fillna(0,inplace=True)\n",
    "df_nan['SOLP3']=df_nan['SOLP3'].replace(\" \", \"010\") #The blank space is replaced with the code 010, meaning default.\n",
    "df_nan['SOLIH']=df_nan['SOLIH'].replace(\" \", \"010\") \n",
    "df_nan['MAJOR']=df_nan['MAJOR'].replace(\" \", \"Not Major\")\n",
    "df_nan['GEOCODE']=df_nan['GEOCODE'].replace(\" \", \"No code assigned\") \n",
    "df_nan['NOEXCH']=df_nan['NOEXCH'].replace(\" \",\"Exchange\")\n",
    "df_nan['NOEXCH']=df_nan['NOEXCH'].replace(\"X\",\"No Exchange\")\n",
    "df_nan['NOEXCH']=df_nan['NOEXCH'].replace(\"1\",\"Exchange\")\n",
    "df_nan['NOEXCH']=df_nan['NOEXCH'].replace(\"0\",\"No Exchange\")\n",
    "df_nan['NOEXCH']=df_nan['NOEXCH'].replace(1,\"Exchange\")\n",
    "df_nan['NOEXCH']=df_nan['NOEXCH'].replace(0,\"No Exchange\")\n",
    "df_nan['RECINHSE']=df_nan['RECINHSE'].replace(\" \", \"Not In House\")\n",
    "df_nan['RECINHSE']=df_nan['RECINHSE'].replace(\"X\", \"Donation to In House\")\n",
    "df_nan['RECP3']=df_nan['RECP3'].replace(\" \", \"Not P3\")\n",
    "df_nan['RECP3']=df_nan['RECP3'].replace(\"X\", \"Donation to P3\")\n",
    "df_nan['RECPGVG']=df_nan['RECPGVG'].replace(\" \", \"Not Planned Giving\")\n",
    "df_nan['RECPGVG']=df_nan['RECPGVG'].replace(\"X\", \"Planned Giving\")\n",
    "df_nan['RECSWEEP']=df_nan['RECSWEEP'].replace(\" \", \"Not Sweepstakes\")\n",
    "df_nan['RECSWEEP']=df_nan['RECSWEEP'].replace(\"X\", \"Sweepstakes\")\n",
    "df_nan['PEPSTRFL']=df_nan['PEPSTRFL'].replace(\" \", \"Not PEP STAR\")\n",
    "df_nan['PEPSTRFL']=df_nan['PEPSTRFL'].replace(\"X\", \"PEP STAR\")\n",
    "df_nan['DATASRCE']= df_nan['DATASRCE'].replace(\"1\",\"MetroMail\")\n",
    "df_nan['DATASRCE']= df_nan['DATASRCE'].replace(\"2\",\"Polk\")\n",
    "df_nan['DATASRCE']= df_nan['DATASRCE'].replace(\"3\",\"Metro+Polk\")\n",
    "df_nan['MAILCODE']= df_nan['MAILCODE'].replace(\" \",\"Address Ok\")\n",
    "df_nan['MAILCODE']= df_nan['MAILCODE'].replace(\"B\",\"Address Bad\")\n",
    "df_nan['HOMEOWNR']= df_nan['HOMEOWNR'].replace(\" \",\"Unknown\")\n",
    "df_nan['HOMEOWNR']= df_nan['HOMEOWNR'].replace(\"U\",\"Unknown\")\n",
    "df_nan['HOMEOWNR']= df_nan['HOMEOWNR'].replace(\"H\",\"Home_Owner\")\n",
    "df_nan['GENDER']= df_nan['GENDER'].replace(\" \",\"Unknown Gender\")\n",
    "df_nan['GENDER']= df_nan['GENDER'].replace(\"M\",\"Male\")\n",
    "df_nan['GENDER']= df_nan['GENDER'].replace(\"F\",\"Female\")\n",
    "df_nan['GENDER']= df_nan['GENDER'].replace(\"U\",\"Unknown Gender\")\n",
    "df_nan['GENDER']= df_nan['GENDER'].replace(\"J\",\"Unknown Gender\")\n",
    "df_nan['GENDER']= df_nan['GENDER'].replace(\"C\",\"Unknown Gender\")\n",
    "df_nan['GENDER']= df_nan['GENDER'].replace(\"A\",\"Unknown Gender\")\n",
    "df_nan['COLLECT1']= df_nan['COLLECT1'].replace(\" \",\"N\")\n",
    "df_nan['VETERANS']= df_nan['VETERANS'].replace(\" \",\"N\")\n",
    "df_nan['BIBLE']= df_nan['BIBLE'].replace(\" \",\"N\")\n",
    "df_nan['CATLG']= df_nan['CATLG'].replace(\" \",\"N\")\n",
    "df_nan['HOMEE']= df_nan['HOMEE'].replace(\" \",\"N\")\n",
    "df_nan['PETS']= df_nan['PETS'].replace(\" \",\"N\")\n",
    "df_nan['CDPLAY']= df_nan['CDPLAY'].replace(\" \",\"N\")\n",
    "df_nan['STEREO']= df_nan['STEREO'].replace(\" \",\"N\")\n",
    "df_nan['PCOWNERS']=df_nan['PCOWNERS'].replace(\" \",\"N\")\n",
    "df_nan['CRAFTS']= df_nan['CRAFTS'].replace(\" \",\"N\")\n",
    "df_nan['FISHER']= df_nan['FISHER'].replace(\" \",\"N\")\n",
    "df_nan['GARDENIN']= df_nan['GARDENIN'].replace(\" \",\"N\")\n",
    "df_nan['BOATS']= df_nan['BOATS'].replace(\" \",\"N\")\n",
    "df_nan['WALKER']= df_nan['WALKER'].replace(\" \",\"N\")\n",
    "df_nan['KIDSTUFF']= df_nan['KIDSTUFF'].replace(\" \",\"N\")\n",
    "df_nan['CARDS']= df_nan['CARDS'].replace(\" \",\"N\")\n",
    "df_nan['PLATES']= df_nan['PLATES'].replace(\" \",\"N\")"
   ]
  },
  {
   "cell_type": "code",
   "execution_count": 9,
   "metadata": {},
   "outputs": [],
   "source": [
    "# REPLACED BLANK SPACES WITH NAN, AFTER READJUSTED DATA\n",
    "df_nan.replace('',np.nan, inplace = True)\n",
    "df_nan.replace(' ',np.nan, inplace = True)"
   ]
  },
  {
   "cell_type": "code",
   "execution_count": 10,
   "metadata": {},
   "outputs": [
    {
     "data": {
      "text/plain": [
       "RDATE_5    95403\n",
       "RAMNT_5    95403\n",
       "RAMNT_3    95170\n",
       "RDATE_3    95170\n",
       "RAMNT_4    95131\n",
       "           ...  \n",
       "OCC10          0\n",
       "OCC11          0\n",
       "OCC12          0\n",
       "OCC13          0\n",
       "ODATEDW        0\n",
       "Length: 475, dtype: int64"
      ]
     },
     "execution_count": 10,
     "metadata": {},
     "output_type": "execute_result"
    }
   ],
   "source": [
    "df_nan.isna().sum().sort_values(ascending = False)"
   ]
  },
  {
   "cell_type": "markdown",
   "metadata": {},
   "source": [
    "Even before we start the preprocessing itself, we decided to remove all the features that have 40% or plus filling these values, once we believe that missing these values may lead to some unreal description of the real analysis."
   ]
  },
  {
   "cell_type": "code",
   "execution_count": 11,
   "metadata": {},
   "outputs": [
    {
     "data": {
      "text/plain": [
       "38164.8"
      ]
     },
     "execution_count": 11,
     "metadata": {},
     "output_type": "execute_result"
    }
   ],
   "source": [
    "#THRESHOLD\n",
    "df_nan.shape[0] * 0.40 "
   ]
  },
  {
   "cell_type": "code",
   "execution_count": 12,
   "metadata": {},
   "outputs": [
    {
     "data": {
      "text/html": [
       "<div>\n",
       "<style scoped>\n",
       "    .dataframe tbody tr th:only-of-type {\n",
       "        vertical-align: middle;\n",
       "    }\n",
       "\n",
       "    .dataframe tbody tr th {\n",
       "        vertical-align: top;\n",
       "    }\n",
       "\n",
       "    .dataframe thead th {\n",
       "        text-align: right;\n",
       "    }\n",
       "</style>\n",
       "<table border=\"1\" class=\"dataframe\">\n",
       "  <thead>\n",
       "    <tr style=\"text-align: right;\">\n",
       "      <th></th>\n",
       "      <th>WEALTH1</th>\n",
       "      <th>WEALTH2</th>\n",
       "      <th>ADATE_5</th>\n",
       "      <th>ADATE_10</th>\n",
       "      <th>ADATE_13</th>\n",
       "      <th>ADATE_21</th>\n",
       "      <th>ADATE_24</th>\n",
       "    </tr>\n",
       "  </thead>\n",
       "  <tbody>\n",
       "    <tr>\n",
       "      <th>0</th>\n",
       "      <td>NaN</td>\n",
       "      <td>5.0</td>\n",
       "      <td>2016-04-01</td>\n",
       "      <td>2015-10-01</td>\n",
       "      <td>2015-07-01</td>\n",
       "      <td>2014-10-01</td>\n",
       "      <td>2014-06-01</td>\n",
       "    </tr>\n",
       "    <tr>\n",
       "      <th>1</th>\n",
       "      <td>9.0</td>\n",
       "      <td>9.0</td>\n",
       "      <td>2016-04-01</td>\n",
       "      <td>2015-10-01</td>\n",
       "      <td>NaN</td>\n",
       "      <td>2014-10-01</td>\n",
       "      <td>2014-06-01</td>\n",
       "    </tr>\n",
       "    <tr>\n",
       "      <th>2</th>\n",
       "      <td>1.0</td>\n",
       "      <td>1.0</td>\n",
       "      <td>2016-04-01</td>\n",
       "      <td>NaN</td>\n",
       "      <td>2015-07-01</td>\n",
       "      <td>NaN</td>\n",
       "      <td>2014-06-01</td>\n",
       "    </tr>\n",
       "    <tr>\n",
       "      <th>3</th>\n",
       "      <td>4.0</td>\n",
       "      <td>0.0</td>\n",
       "      <td>2016-04-01</td>\n",
       "      <td>NaN</td>\n",
       "      <td>2015-07-01</td>\n",
       "      <td>2014-10-01</td>\n",
       "      <td>NaN</td>\n",
       "    </tr>\n",
       "    <tr>\n",
       "      <th>4</th>\n",
       "      <td>2.0</td>\n",
       "      <td>NaN</td>\n",
       "      <td>2016-04-01</td>\n",
       "      <td>2015-10-01</td>\n",
       "      <td>2015-02-01</td>\n",
       "      <td>2014-10-01</td>\n",
       "      <td>2014-06-01</td>\n",
       "    </tr>\n",
       "  </tbody>\n",
       "</table>\n",
       "</div>"
      ],
      "text/plain": [
       "   WEALTH1  WEALTH2     ADATE_5    ADATE_10    ADATE_13    ADATE_21  \\\n",
       "0      NaN      5.0  2016-04-01  2015-10-01  2015-07-01  2014-10-01   \n",
       "1      9.0      9.0  2016-04-01  2015-10-01         NaN  2014-10-01   \n",
       "2      1.0      1.0  2016-04-01         NaN  2015-07-01         NaN   \n",
       "3      4.0      0.0  2016-04-01         NaN  2015-07-01  2014-10-01   \n",
       "4      2.0      NaN  2016-04-01  2015-10-01  2015-02-01  2014-10-01   \n",
       "\n",
       "     ADATE_24  \n",
       "0  2014-06-01  \n",
       "1  2014-06-01  \n",
       "2  2014-06-01  \n",
       "3         NaN  \n",
       "4  2014-06-01  "
      ]
     },
     "execution_count": 12,
     "metadata": {},
     "output_type": "execute_result"
    }
   ],
   "source": [
    "#CHECKING IF WE ARE DELETING SOME IMPORTING DATA \n",
    "df_nan.loc[:, (df.isna().sum() >30000) & (df.isna().sum() <= 50000)].head()"
   ]
  },
  {
   "cell_type": "code",
   "execution_count": 13,
   "metadata": {},
   "outputs": [],
   "source": [
    "df_nan = df_nan.loc[:, (df_nan.isna().sum() <= 38164.8)]"
   ]
  },
  {
   "cell_type": "code",
   "execution_count": 14,
   "metadata": {},
   "outputs": [
    {
     "name": "stdout",
     "output_type": "stream",
     "text": [
      "We deleted 76 columns from df, which had more than 40% of missing values. Thus,we still have 84.0 % of all the dataset\n",
      "\n"
     ]
    }
   ],
   "source": [
    "print('We deleted', df.shape[1] - df_nan.shape[1], 'columns from df, which had more than 40% of missing values. Thus,we still have', round((100-(476 - df_nan.shape[1])/476*100),0), '% of all the dataset\\n')"
   ]
  },
  {
   "cell_type": "code",
   "execution_count": 15,
   "metadata": {},
   "outputs": [
    {
     "data": {
      "text/plain": [
       "ADATE_24    36973\n",
       "RFA_24      36973\n",
       "ADATE_21    35212\n",
       "RFA_21      35212\n",
       "ADATE_5     33590\n",
       "            ...  \n",
       "EIC3            0\n",
       "EIC4            0\n",
       "EIC5            0\n",
       "EIC6            0\n",
       "ODATEDW         0\n",
       "Length: 399, dtype: int64"
      ]
     },
     "execution_count": 15,
     "metadata": {},
     "output_type": "execute_result"
    }
   ],
   "source": [
    "df_nan.isna().sum().sort_values(ascending = False)"
   ]
  },
  {
   "cell_type": "markdown",
   "metadata": {},
   "source": [
    "This re-arrange will make the informations on dates more readable"
   ]
  },
  {
   "cell_type": "code",
   "execution_count": 16,
   "metadata": {},
   "outputs": [],
   "source": [
    "dates = []\n",
    "for row in df_nan.filter(regex = 'DATE').columns:\n",
    "    dates.append(row)"
   ]
  },
  {
   "cell_type": "code",
   "execution_count": 17,
   "metadata": {},
   "outputs": [],
   "source": [
    "def get_data(df):\n",
    "    for row in df.filter(regex='DATE').columns:\n",
    "        df[row] = df[row].apply(str)\n",
    "        df[row] = df[row].str[:4]\n",
    "        df[row] = df[row].apply(float)\n",
    "        \n",
    "df_nan['DOB'].replace('A', np.nan, inplace = True)\n",
    "df_nan['DOB'] = df_nan['DOB'].apply(str)\n",
    "df_nan['DOB'] = df_nan['DOB'].str[:4]\n",
    "df_nan['DOB'] = df_nan['DOB'].apply(float)\n",
    "df_nan['AGE'] = 2020 - df_nan['DOB']\n",
    "df_nan = df_nan.drop(columns = 'DOB')"
   ]
  },
  {
   "cell_type": "code",
   "execution_count": 18,
   "metadata": {},
   "outputs": [],
   "source": [
    "get_data(df_nan)"
   ]
  },
  {
   "cell_type": "code",
   "execution_count": 19,
   "metadata": {
    "scrolled": false
   },
   "outputs": [
    {
     "data": {
      "text/html": [
       "<div>\n",
       "<style scoped>\n",
       "    .dataframe tbody tr th:only-of-type {\n",
       "        vertical-align: middle;\n",
       "    }\n",
       "\n",
       "    .dataframe tbody tr th {\n",
       "        vertical-align: top;\n",
       "    }\n",
       "\n",
       "    .dataframe thead th {\n",
       "        text-align: right;\n",
       "    }\n",
       "</style>\n",
       "<table border=\"1\" class=\"dataframe\">\n",
       "  <thead>\n",
       "    <tr style=\"text-align: right;\">\n",
       "      <th></th>\n",
       "      <th>ODATEDW</th>\n",
       "      <th>ADATE_2</th>\n",
       "      <th>ADATE_3</th>\n",
       "      <th>ADATE_4</th>\n",
       "      <th>ADATE_5</th>\n",
       "      <th>ADATE_6</th>\n",
       "      <th>ADATE_7</th>\n",
       "      <th>ADATE_8</th>\n",
       "      <th>ADATE_9</th>\n",
       "      <th>ADATE_10</th>\n",
       "      <th>...</th>\n",
       "      <th>ADATE_19</th>\n",
       "      <th>ADATE_21</th>\n",
       "      <th>ADATE_22</th>\n",
       "      <th>ADATE_24</th>\n",
       "      <th>MAXADATE</th>\n",
       "      <th>MINRDATE</th>\n",
       "      <th>MAXRDATE</th>\n",
       "      <th>LASTDATE</th>\n",
       "      <th>FISTDATE</th>\n",
       "      <th>NEXTDATE</th>\n",
       "    </tr>\n",
       "  </thead>\n",
       "  <tbody>\n",
       "    <tr>\n",
       "      <th>0</th>\n",
       "      <td>2009.0</td>\n",
       "      <td>2017.0</td>\n",
       "      <td>2016.0</td>\n",
       "      <td>2016.0</td>\n",
       "      <td>2016.0</td>\n",
       "      <td>2016.0</td>\n",
       "      <td>2016.0</td>\n",
       "      <td>2016.0</td>\n",
       "      <td>2015.0</td>\n",
       "      <td>2015.0</td>\n",
       "      <td>...</td>\n",
       "      <td>2014.0</td>\n",
       "      <td>2014.0</td>\n",
       "      <td>2014.0</td>\n",
       "      <td>2014.0</td>\n",
       "      <td>2017.0</td>\n",
       "      <td>2012.0</td>\n",
       "      <td>2014.0</td>\n",
       "      <td>2015.0</td>\n",
       "      <td>2009.0</td>\n",
       "      <td>2010.0</td>\n",
       "    </tr>\n",
       "    <tr>\n",
       "      <th>1</th>\n",
       "      <td>2014.0</td>\n",
       "      <td>2017.0</td>\n",
       "      <td>2016.0</td>\n",
       "      <td>2016.0</td>\n",
       "      <td>2016.0</td>\n",
       "      <td>2016.0</td>\n",
       "      <td>2016.0</td>\n",
       "      <td>2016.0</td>\n",
       "      <td>2015.0</td>\n",
       "      <td>2015.0</td>\n",
       "      <td>...</td>\n",
       "      <td>2014.0</td>\n",
       "      <td>2014.0</td>\n",
       "      <td>2014.0</td>\n",
       "      <td>2014.0</td>\n",
       "      <td>2017.0</td>\n",
       "      <td>2013.0</td>\n",
       "      <td>2015.0</td>\n",
       "      <td>2015.0</td>\n",
       "      <td>2013.0</td>\n",
       "      <td>2015.0</td>\n",
       "    </tr>\n",
       "    <tr>\n",
       "      <th>2</th>\n",
       "      <td>2010.0</td>\n",
       "      <td>2017.0</td>\n",
       "      <td>2016.0</td>\n",
       "      <td>2016.0</td>\n",
       "      <td>2016.0</td>\n",
       "      <td>2016.0</td>\n",
       "      <td>2016.0</td>\n",
       "      <td>2016.0</td>\n",
       "      <td>2015.0</td>\n",
       "      <td>NaN</td>\n",
       "      <td>...</td>\n",
       "      <td>2014.0</td>\n",
       "      <td>NaN</td>\n",
       "      <td>2014.0</td>\n",
       "      <td>2014.0</td>\n",
       "      <td>2017.0</td>\n",
       "      <td>2011.0</td>\n",
       "      <td>2012.0</td>\n",
       "      <td>2015.0</td>\n",
       "      <td>2010.0</td>\n",
       "      <td>2011.0</td>\n",
       "    </tr>\n",
       "    <tr>\n",
       "      <th>3</th>\n",
       "      <td>2007.0</td>\n",
       "      <td>2017.0</td>\n",
       "      <td>2016.0</td>\n",
       "      <td>2016.0</td>\n",
       "      <td>2016.0</td>\n",
       "      <td>2016.0</td>\n",
       "      <td>2016.0</td>\n",
       "      <td>2016.0</td>\n",
       "      <td>2015.0</td>\n",
       "      <td>NaN</td>\n",
       "      <td>...</td>\n",
       "      <td>2014.0</td>\n",
       "      <td>2014.0</td>\n",
       "      <td>2014.0</td>\n",
       "      <td>NaN</td>\n",
       "      <td>2017.0</td>\n",
       "      <td>2007.0</td>\n",
       "      <td>2014.0</td>\n",
       "      <td>2015.0</td>\n",
       "      <td>2007.0</td>\n",
       "      <td>2007.0</td>\n",
       "    </tr>\n",
       "    <tr>\n",
       "      <th>4</th>\n",
       "      <td>2006.0</td>\n",
       "      <td>2017.0</td>\n",
       "      <td>2016.0</td>\n",
       "      <td>2016.0</td>\n",
       "      <td>2016.0</td>\n",
       "      <td>2016.0</td>\n",
       "      <td>2015.0</td>\n",
       "      <td>2016.0</td>\n",
       "      <td>2015.0</td>\n",
       "      <td>2015.0</td>\n",
       "      <td>...</td>\n",
       "      <td>2014.0</td>\n",
       "      <td>2014.0</td>\n",
       "      <td>2015.0</td>\n",
       "      <td>2014.0</td>\n",
       "      <td>2017.0</td>\n",
       "      <td>2013.0</td>\n",
       "      <td>2016.0</td>\n",
       "      <td>2016.0</td>\n",
       "      <td>1999.0</td>\n",
       "      <td>2000.0</td>\n",
       "    </tr>\n",
       "    <tr>\n",
       "      <th>...</th>\n",
       "      <td>...</td>\n",
       "      <td>...</td>\n",
       "      <td>...</td>\n",
       "      <td>...</td>\n",
       "      <td>...</td>\n",
       "      <td>...</td>\n",
       "      <td>...</td>\n",
       "      <td>...</td>\n",
       "      <td>...</td>\n",
       "      <td>...</td>\n",
       "      <td>...</td>\n",
       "      <td>...</td>\n",
       "      <td>...</td>\n",
       "      <td>...</td>\n",
       "      <td>...</td>\n",
       "      <td>...</td>\n",
       "      <td>...</td>\n",
       "      <td>...</td>\n",
       "      <td>...</td>\n",
       "      <td>...</td>\n",
       "      <td>...</td>\n",
       "    </tr>\n",
       "    <tr>\n",
       "      <th>95407</th>\n",
       "      <td>2016.0</td>\n",
       "      <td>2017.0</td>\n",
       "      <td>2016.0</td>\n",
       "      <td>2016.0</td>\n",
       "      <td>NaN</td>\n",
       "      <td>2016.0</td>\n",
       "      <td>2016.0</td>\n",
       "      <td>2015.0</td>\n",
       "      <td>NaN</td>\n",
       "      <td>NaN</td>\n",
       "      <td>...</td>\n",
       "      <td>NaN</td>\n",
       "      <td>NaN</td>\n",
       "      <td>NaN</td>\n",
       "      <td>NaN</td>\n",
       "      <td>2017.0</td>\n",
       "      <td>2016.0</td>\n",
       "      <td>2016.0</td>\n",
       "      <td>2016.0</td>\n",
       "      <td>2016.0</td>\n",
       "      <td>0.0</td>\n",
       "    </tr>\n",
       "    <tr>\n",
       "      <th>95408</th>\n",
       "      <td>2016.0</td>\n",
       "      <td>2017.0</td>\n",
       "      <td>NaN</td>\n",
       "      <td>NaN</td>\n",
       "      <td>NaN</td>\n",
       "      <td>NaN</td>\n",
       "      <td>2016.0</td>\n",
       "      <td>2016.0</td>\n",
       "      <td>NaN</td>\n",
       "      <td>NaN</td>\n",
       "      <td>...</td>\n",
       "      <td>NaN</td>\n",
       "      <td>NaN</td>\n",
       "      <td>NaN</td>\n",
       "      <td>NaN</td>\n",
       "      <td>2017.0</td>\n",
       "      <td>2016.0</td>\n",
       "      <td>2016.0</td>\n",
       "      <td>2016.0</td>\n",
       "      <td>2016.0</td>\n",
       "      <td>0.0</td>\n",
       "    </tr>\n",
       "    <tr>\n",
       "      <th>95409</th>\n",
       "      <td>2015.0</td>\n",
       "      <td>2017.0</td>\n",
       "      <td>2016.0</td>\n",
       "      <td>2016.0</td>\n",
       "      <td>2016.0</td>\n",
       "      <td>2016.0</td>\n",
       "      <td>NaN</td>\n",
       "      <td>2016.0</td>\n",
       "      <td>2015.0</td>\n",
       "      <td>2015.0</td>\n",
       "      <td>...</td>\n",
       "      <td>NaN</td>\n",
       "      <td>2014.0</td>\n",
       "      <td>2014.0</td>\n",
       "      <td>NaN</td>\n",
       "      <td>2017.0</td>\n",
       "      <td>2016.0</td>\n",
       "      <td>2015.0</td>\n",
       "      <td>2016.0</td>\n",
       "      <td>2014.0</td>\n",
       "      <td>2015.0</td>\n",
       "    </tr>\n",
       "    <tr>\n",
       "      <th>95410</th>\n",
       "      <td>2006.0</td>\n",
       "      <td>2017.0</td>\n",
       "      <td>2016.0</td>\n",
       "      <td>2016.0</td>\n",
       "      <td>2016.0</td>\n",
       "      <td>2016.0</td>\n",
       "      <td>2016.0</td>\n",
       "      <td>2016.0</td>\n",
       "      <td>2015.0</td>\n",
       "      <td>2015.0</td>\n",
       "      <td>...</td>\n",
       "      <td>2014.0</td>\n",
       "      <td>2014.0</td>\n",
       "      <td>2014.0</td>\n",
       "      <td>2014.0</td>\n",
       "      <td>2017.0</td>\n",
       "      <td>2010.0</td>\n",
       "      <td>2016.0</td>\n",
       "      <td>2017.0</td>\n",
       "      <td>2006.0</td>\n",
       "      <td>2007.0</td>\n",
       "    </tr>\n",
       "    <tr>\n",
       "      <th>95411</th>\n",
       "      <td>2008.0</td>\n",
       "      <td>2017.0</td>\n",
       "      <td>2016.0</td>\n",
       "      <td>2016.0</td>\n",
       "      <td>2016.0</td>\n",
       "      <td>2016.0</td>\n",
       "      <td>2016.0</td>\n",
       "      <td>2016.0</td>\n",
       "      <td>2015.0</td>\n",
       "      <td>2015.0</td>\n",
       "      <td>...</td>\n",
       "      <td>2014.0</td>\n",
       "      <td>2014.0</td>\n",
       "      <td>2014.0</td>\n",
       "      <td>2014.0</td>\n",
       "      <td>2017.0</td>\n",
       "      <td>2008.0</td>\n",
       "      <td>2013.0</td>\n",
       "      <td>2016.0</td>\n",
       "      <td>2008.0</td>\n",
       "      <td>2008.0</td>\n",
       "    </tr>\n",
       "  </tbody>\n",
       "</table>\n",
       "<p>95412 rows × 26 columns</p>\n",
       "</div>"
      ],
      "text/plain": [
       "       ODATEDW  ADATE_2  ADATE_3  ADATE_4  ADATE_5  ADATE_6  ADATE_7  ADATE_8  \\\n",
       "0       2009.0   2017.0   2016.0   2016.0   2016.0   2016.0   2016.0   2016.0   \n",
       "1       2014.0   2017.0   2016.0   2016.0   2016.0   2016.0   2016.0   2016.0   \n",
       "2       2010.0   2017.0   2016.0   2016.0   2016.0   2016.0   2016.0   2016.0   \n",
       "3       2007.0   2017.0   2016.0   2016.0   2016.0   2016.0   2016.0   2016.0   \n",
       "4       2006.0   2017.0   2016.0   2016.0   2016.0   2016.0   2015.0   2016.0   \n",
       "...        ...      ...      ...      ...      ...      ...      ...      ...   \n",
       "95407   2016.0   2017.0   2016.0   2016.0      NaN   2016.0   2016.0   2015.0   \n",
       "95408   2016.0   2017.0      NaN      NaN      NaN      NaN   2016.0   2016.0   \n",
       "95409   2015.0   2017.0   2016.0   2016.0   2016.0   2016.0      NaN   2016.0   \n",
       "95410   2006.0   2017.0   2016.0   2016.0   2016.0   2016.0   2016.0   2016.0   \n",
       "95411   2008.0   2017.0   2016.0   2016.0   2016.0   2016.0   2016.0   2016.0   \n",
       "\n",
       "       ADATE_9  ADATE_10  ...  ADATE_19  ADATE_21  ADATE_22  ADATE_24  \\\n",
       "0       2015.0    2015.0  ...    2014.0    2014.0    2014.0    2014.0   \n",
       "1       2015.0    2015.0  ...    2014.0    2014.0    2014.0    2014.0   \n",
       "2       2015.0       NaN  ...    2014.0       NaN    2014.0    2014.0   \n",
       "3       2015.0       NaN  ...    2014.0    2014.0    2014.0       NaN   \n",
       "4       2015.0    2015.0  ...    2014.0    2014.0    2015.0    2014.0   \n",
       "...        ...       ...  ...       ...       ...       ...       ...   \n",
       "95407      NaN       NaN  ...       NaN       NaN       NaN       NaN   \n",
       "95408      NaN       NaN  ...       NaN       NaN       NaN       NaN   \n",
       "95409   2015.0    2015.0  ...       NaN    2014.0    2014.0       NaN   \n",
       "95410   2015.0    2015.0  ...    2014.0    2014.0    2014.0    2014.0   \n",
       "95411   2015.0    2015.0  ...    2014.0    2014.0    2014.0    2014.0   \n",
       "\n",
       "       MAXADATE  MINRDATE  MAXRDATE  LASTDATE  FISTDATE  NEXTDATE  \n",
       "0        2017.0    2012.0    2014.0    2015.0    2009.0    2010.0  \n",
       "1        2017.0    2013.0    2015.0    2015.0    2013.0    2015.0  \n",
       "2        2017.0    2011.0    2012.0    2015.0    2010.0    2011.0  \n",
       "3        2017.0    2007.0    2014.0    2015.0    2007.0    2007.0  \n",
       "4        2017.0    2013.0    2016.0    2016.0    1999.0    2000.0  \n",
       "...         ...       ...       ...       ...       ...       ...  \n",
       "95407    2017.0    2016.0    2016.0    2016.0    2016.0       0.0  \n",
       "95408    2017.0    2016.0    2016.0    2016.0    2016.0       0.0  \n",
       "95409    2017.0    2016.0    2015.0    2016.0    2014.0    2015.0  \n",
       "95410    2017.0    2010.0    2016.0    2017.0    2006.0    2007.0  \n",
       "95411    2017.0    2008.0    2013.0    2016.0    2008.0    2008.0  \n",
       "\n",
       "[95412 rows x 26 columns]"
      ]
     },
     "execution_count": 19,
     "metadata": {},
     "output_type": "execute_result"
    }
   ],
   "source": [
    "df_nan[dates]"
   ]
  },
  {
   "cell_type": "code",
   "execution_count": 20,
   "metadata": {},
   "outputs": [],
   "source": [
    "df = df_nan.copy()"
   ]
  },
  {
   "cell_type": "markdown",
   "metadata": {},
   "source": [
    "<hr>\n",
    "<a class=\"anchor\" id=\"2.2.\">\n",
    "    \n",
    "# 2.2. Metric and Categorical variables\n",
    "    \n",
    "</a>"
   ]
  },
  {
   "cell_type": "markdown",
   "metadata": {},
   "source": [
    "Besides dividing data into metric and non metric (i.e. categorical), we also will split data into information about the donors - **donors** - and information about demographic aspects of the donors - **info** - in order to do a better analysis after the clusters."
   ]
  },
  {
   "cell_type": "code",
   "execution_count": 21,
   "metadata": {},
   "outputs": [],
   "source": [
    "donors= df.copy()\n",
    "donors_sup=donors.copy()\n",
    "info= donors_sup.copy()"
   ]
  },
  {
   "cell_type": "code",
   "execution_count": 22,
   "metadata": {},
   "outputs": [],
   "source": [
    "cols_neigh = list(range(72,358)) \n",
    "info= info[info.columns[cols_neigh]]"
   ]
  },
  {
   "cell_type": "code",
   "execution_count": 23,
   "metadata": {},
   "outputs": [],
   "source": [
    "info_sup= donors_sup[['TCODE','STATE','ZIP','INCOME','DOMAIN','MAILCODE','HOMEOWNR','GENDER', 'MALEMILI','MALEVET',\n",
    "                      'VIETVETS','WWIIVETS','LOCALGOV','STATEGOV','FEDGOV','COLLECT1','VETERANS','BIBLE','CATLG','HOMEE',\n",
    "                      'PETS','CDPLAY','STEREO', 'CRAFTS','FISHER','GARDENIN','BOATS','WALKER','KIDSTUFF','CARDS','PLATES',\n",
    "                      'HPHONE_D','GEOCODE2']]"
   ]
  },
  {
   "cell_type": "code",
   "execution_count": 24,
   "metadata": {},
   "outputs": [],
   "source": [
    "info= info_sup.merge(info, left_index= True, right_index= True)"
   ]
  },
  {
   "cell_type": "code",
   "execution_count": 25,
   "metadata": {},
   "outputs": [],
   "source": [
    "donors_col = donors.columns.drop(info.columns).tolist()"
   ]
  },
  {
   "cell_type": "code",
   "execution_count": 26,
   "metadata": {},
   "outputs": [],
   "source": [
    "donors = donors[donors_col]"
   ]
  },
  {
   "cell_type": "code",
   "execution_count": 27,
   "metadata": {},
   "outputs": [],
   "source": [
    "info['AGE'] = df['AGE'].copy()"
   ]
  },
  {
   "cell_type": "code",
   "execution_count": 28,
   "metadata": {},
   "outputs": [],
   "source": [
    "info['CONTROLN'] = donors_sup['CONTROLN']\n",
    "donors.set_index('CONTROLN',inplace=True)\n",
    "info.set_index('CONTROLN',inplace=True)\n",
    "donors = donors.drop(columns = 'AGE')"
   ]
  },
  {
   "cell_type": "code",
   "execution_count": 29,
   "metadata": {},
   "outputs": [],
   "source": [
    "donors_metric= ['HIT','CARDPROM','NUMPROM','CARDPM12','NUMPRM12','RAMNTALL','NGIFTALL','CARDGIFT','MINRAMNT',\n",
    "                'MAXRAMNT','LASTGIFT','TIMELAG','AVGGIFT']\n",
    "donors_categorical= donors.columns.drop(donors_metric).to_list()"
   ]
  },
  {
   "cell_type": "code",
   "execution_count": 30,
   "metadata": {},
   "outputs": [],
   "source": [
    "info_metric= ['AGE','INCOME','MALEMILI','MALEVET','VIETVETS','WWIIVETS','LOCALGOV','STATEGOV','FEDGOV',\n",
    "              'AGE902', 'AGE903', 'AGE904', 'AGE905', 'AGE906', 'AGE907',\n",
    "              'CHIL1', 'CHIL2', 'CHIL3', 'AGEC1', 'AGEC2', 'AGEC3', 'AGEC4', 'AGEC5', 'AGEC6', 'AGEC7', 'CHILC1',\n",
    "              'CHILC2', 'CHILC3', 'CHILC4', 'CHILC5', 'HHAGE1', 'HHAGE2', 'HHAGE3', 'HHN1', 'HHN2', 'HHN3', 'HHN4', \n",
    "              'HHN5', 'HHN6', 'MARR1', 'MARR2', 'MARR3', 'MARR4', 'HHP1', 'HHP2', 'DW1', 'DW2', 'DW3', 'DW4', 'DW5',\n",
    "              'DW6', 'DW7', 'DW8', 'DW9', 'HV1', 'HV2', 'HV3', 'HV4', 'HU1', 'HU2', 'HU3', 'HU4', 'HU5', 'HHD1', 'HHD2',\n",
    "              'HHD3', 'HHD4', 'HHD5', 'HHD6', 'HHD7', 'HHD8', 'HHD9', 'HHD10', 'HHD11', 'HHD12', 'ETHC1', 'ETHC2', 'ETHC3',\n",
    "              'ETHC4', 'ETHC5', 'ETHC6', 'HVP1', 'HVP2', 'HVP3', 'HVP4', 'HVP5', 'HVP6', 'HUR1', 'HUR2', 'RHP1', 'RHP2', \n",
    "              'RHP3', 'RHP4', 'HUPA1', 'HUPA2', 'HUPA3', 'HUPA4', 'HUPA5', 'HUPA6', 'HUPA7', 'RP1', 'RP2', 'RP3', 'RP4',\n",
    "              'MSA', 'ADI', 'DMA', 'IC1', 'IC2', 'IC3', 'IC4', 'IC5', 'IC6', 'IC7', 'IC8', 'IC9', 'IC10', 'IC11', 'IC12',\n",
    "              'IC13', 'IC14', 'IC15', 'IC16', 'IC17', 'IC18', 'IC19', 'IC20', 'IC21', 'IC22', 'IC23', 'HHAS1', 'HHAS2',\n",
    "              'HHAS3', 'HHAS4', 'MC1', 'MC2', 'MC3', 'TPE1', 'TPE2', 'TPE3', 'TPE4', 'TPE5', 'TPE6', 'TPE7', 'TPE8', \n",
    "              'TPE9', 'PEC1', 'PEC2', 'TPE10', 'TPE11', 'TPE12', 'TPE13', 'LFC1', 'LFC2', 'LFC3', 'LFC4', 'LFC5', 'LFC6',\n",
    "              'LFC7', 'LFC8', 'LFC9', 'LFC10', 'OCC1', 'OCC2', 'OCC3', 'OCC4', 'OCC5', 'OCC6', 'OCC7', 'OCC8', 'OCC9',\n",
    "              'OCC10', 'OCC11', 'OCC12', 'OCC13', 'EIC1', 'EIC2', 'EIC3', 'EIC4', 'EIC5', 'EIC6', 'EIC7', 'EIC8', 'EIC9',\n",
    "              'EIC10', 'EIC11', 'EIC12', 'EIC13', 'EIC14', 'EIC15', 'EIC16', 'OEDC1', 'OEDC2', 'OEDC3', 'OEDC4', 'OEDC5',\n",
    "              'OEDC6', 'OEDC7', 'EC1', 'EC2', 'EC3', 'EC4', 'EC5', 'EC6', 'EC7', 'EC8', 'SEC1', 'SEC2', 'SEC3', 'SEC4', \n",
    "              'SEC5', 'AFC1', 'AFC2', 'AFC3', 'AFC4', 'AFC5', 'AFC6', 'VC1', 'VC2', 'VC3', 'VC4', 'ANC1', 'ANC2', 'ANC3',\n",
    "              'ANC4', 'ANC5', 'ANC6', 'ANC7', 'ANC8', 'ANC9', 'ANC10', 'ANC11', 'ANC12', 'ANC13', 'ANC14', 'ANC15', 'POBC1',\n",
    "              'POBC2', 'LSC1', 'LSC2', 'LSC3', 'LSC4', 'VOC1', 'VOC2', 'VOC3', 'HC1', 'HC2', 'HC3', 'HC4', 'HC5', 'HC6',\n",
    "              'HC7', 'HC8', 'HC9', 'HC10', 'HC11', 'HC12', 'HC13', 'HC14', 'HC15', 'HC16', 'HC17', 'HC18', 'HC19', 'HC20',\n",
    "              'HC21', 'MHUC1', 'MHUC2', 'AC1']\n",
    "info_categorical= info.columns.drop(info_metric).to_list()"
   ]
  },
  {
   "cell_type": "code",
   "execution_count": 31,
   "metadata": {},
   "outputs": [
    {
     "name": "stdout",
     "output_type": "stream",
     "text": [
      "2016.0\n",
      "2016.0\n"
     ]
    }
   ],
   "source": [
    "#There are the same number of NaNs in NEXTDATE and TIMELAG, which we assumed was because 9973 individuals only contributed\n",
    "#with one gift, so there was no record of a second gift to take into account. To prove this, we had to check whether the\n",
    "#date of the last gift was equal to the date of the first ever gift, which it is.\n",
    "\n",
    "print(donors.loc[184568]['LASTDATE'])\n",
    "print(donors.loc[184568]['FISTDATE'])"
   ]
  },
  {
   "cell_type": "code",
   "execution_count": 32,
   "metadata": {
    "scrolled": true
   },
   "outputs": [],
   "source": [
    "#Removing TIMELAG for the imputation, given that we would be instilling bias into the data\n",
    "\n",
    "TIMELAG = donors[['TIMELAG']]\n",
    "donors.drop(labels='TIMELAG', axis=1,inplace=True)\n",
    "donors_metric.remove('TIMELAG')"
   ]
  },
  {
   "cell_type": "code",
   "execution_count": 33,
   "metadata": {},
   "outputs": [],
   "source": [
    "#Removing NEXTDATE for the imputation, given that we would be instilling bias into the data, by giving dates for the\n",
    "#2nd gift for donors who only provided one donation. \n",
    "\n",
    "NEXTDATE = donors[['NEXTDATE']]\n",
    "donors.drop(labels='NEXTDATE', axis=1,inplace=True)\n",
    "donors_categorical.remove('NEXTDATE')"
   ]
  },
  {
   "cell_type": "code",
   "execution_count": 34,
   "metadata": {},
   "outputs": [],
   "source": [
    "info_metric = info[info_metric]\n",
    "info_categorical = info[info_categorical]\n",
    "donors_metric = donors[donors_metric]\n",
    "donors_categorical = donors[donors_categorical]"
   ]
  },
  {
   "cell_type": "code",
   "execution_count": 35,
   "metadata": {},
   "outputs": [
    {
     "name": "stdout",
     "output_type": "stream",
     "text": [
      "Info: 95412 rows and 320 comlumns\n",
      "Donors: 95412 rows and 76 comlumns\n",
      "IMetric: 95412 rows and 269 comlumns\n",
      "DMetric: 95412 rows and 12 comlumns\n",
      "ICategorical: 95412 rows and 51 comlumns\n",
      "DCategorical: 95412 rows and 64 comlumns\n",
      "Reduced 80 from the original dataset\n"
     ]
    }
   ],
   "source": [
    "def sizes():\n",
    "    print('Info:',info.shape[0], 'rows and', info.shape[1],'comlumns')\n",
    "    print('Donors:',donors.shape[0], 'rows and', donors.shape[1],'comlumns')\n",
    "    print('IMetric:',info_metric.shape[0], 'rows and', info_metric.shape[1],'comlumns')\n",
    "    print('DMetric:',donors_metric.shape[0], 'rows and', donors_metric.shape[1],'comlumns')\n",
    "    print('ICategorical:',info_categorical.shape[0], 'rows and', info_categorical.shape[1],'comlumns')\n",
    "    print('DCategorical:',donors_categorical.shape[0], 'rows and', donors_categorical.shape[1],'comlumns')\n",
    "    print('Reduced', 476 - (info_metric.shape[1] + donors_metric.shape[1] + info_categorical.shape[1]\n",
    "                            + donors_categorical.shape[1]), 'from the original dataset')\n",
    "sizes()"
   ]
  },
  {
   "cell_type": "markdown",
   "metadata": {},
   "source": [
    "<hr>\n",
    "<a class=\"anchor\" id=\"2.3.\">\n",
    "    \n",
    "# 2.3. Missing Values - Donors\n",
    "    \n",
    "</a>"
   ]
  },
  {
   "cell_type": "markdown",
   "metadata": {},
   "source": [
    "Although being aware that the ideal and more scientifically correct process would be to do a simple imputation first, handle outliers and, after that, applying a more robust imputation, we will use right away a robust method to impute the missing values (KNN Imputer). We decided to handle the process this way, once the original way was getting us worst results, with cluster not so well defined as the ones we can observe at the Clusters' Chapter."
   ]
  },
  {
   "cell_type": "markdown",
   "metadata": {},
   "source": [
    "A univariate outlier is a data point that consists of an extreme value on one variable. A multivariate outlier is a combination of unusual scores on at least two variables. Both types of outliers can influence the outcome of statistical analyses. Therefore, we find it very important to assess these two types of outliers.\n",
    "\n",
    "Source: \n",
    "- https://www.ritchieng.com/machine-learning-project-customer-segments/\n",
    "- https://scikit-learn.org/stable/modules/generated/sklearn.impute.KNNImputer.html\n",
    "\n"
   ]
  },
  {
   "cell_type": "markdown",
   "metadata": {},
   "source": [
    "**DONORS_METRIC**"
   ]
  },
  {
   "cell_type": "code",
   "execution_count": 36,
   "metadata": {},
   "outputs": [],
   "source": [
    "test_metric = donors_metric.copy()\n",
    "imputer = KNNImputer(n_neighbors=50)\n",
    "test_metric = imputer.fit_transform(test_metric)"
   ]
  },
  {
   "cell_type": "code",
   "execution_count": 37,
   "metadata": {},
   "outputs": [
    {
     "data": {
      "text/plain": [
       "(95412, 12)"
      ]
     },
     "execution_count": 37,
     "metadata": {},
     "output_type": "execute_result"
    }
   ],
   "source": [
    "test_metric.shape"
   ]
  },
  {
   "cell_type": "code",
   "execution_count": 38,
   "metadata": {},
   "outputs": [],
   "source": [
    "imputed_info_m = pd.DataFrame(test_metric, donors_metric.index)\n",
    "imputed_info_m.columns = donors_metric.columns"
   ]
  },
  {
   "cell_type": "code",
   "execution_count": 39,
   "metadata": {},
   "outputs": [],
   "source": [
    "donors_metric = imputed_info_m.copy()"
   ]
  },
  {
   "cell_type": "code",
   "execution_count": 40,
   "metadata": {},
   "outputs": [
    {
     "data": {
      "text/plain": [
       "AVGGIFT     0\n",
       "LASTGIFT    0\n",
       "MAXRAMNT    0\n",
       "MINRAMNT    0\n",
       "CARDGIFT    0\n",
       "dtype: int64"
      ]
     },
     "execution_count": 40,
     "metadata": {},
     "output_type": "execute_result"
    }
   ],
   "source": [
    "donors_metric.isna().sum().sort_values(ascending = False).head()"
   ]
  },
  {
   "cell_type": "markdown",
   "metadata": {},
   "source": [
    "**Donors Categorical**"
   ]
  },
  {
   "cell_type": "code",
   "execution_count": 41,
   "metadata": {
    "scrolled": false
   },
   "outputs": [
    {
     "data": {
      "text/plain": [
       "RFA_24      36973\n",
       "RFA_21      35212\n",
       "RFA_10      32748\n",
       "RFA_17      27650\n",
       "RFA_22      25648\n",
       "RFA_19      24492\n",
       "DATASRCE    21280\n",
       "RFA_18      21263\n",
       "RFA_16      20417\n",
       "RFA_14      18867\n",
       "RFA_9       11245\n",
       "RFA_11      10422\n",
       "RFA_12       8923\n",
       "RFA_8        3511\n",
       "OSOURCE       928\n",
       "FISTDATE        2\n",
       "GEOCODE         0\n",
       "POP903          0\n",
       "POP90C1         0\n",
       "POP90C2         0\n",
       "POP90C3         0\n",
       "POP902          0\n",
       "POP90C4         0\n",
       "POP90C5         0\n",
       "POP901          0\n",
       "PEPSTRFL        0\n",
       "PCOWNERS        0\n",
       "MDMAUD_A        0\n",
       "MAJOR           0\n",
       "SOLIH           0\n",
       "dtype: int64"
      ]
     },
     "execution_count": 41,
     "metadata": {},
     "output_type": "execute_result"
    }
   ],
   "source": [
    "donors_categorical.isna().sum().sort_values(ascending = False).head(30)"
   ]
  },
  {
   "cell_type": "code",
   "execution_count": 42,
   "metadata": {},
   "outputs": [],
   "source": [
    "missings = donors_categorical[['RFA_24','RFA_21','RFA_10','RFA_17','RFA_22','RFA_19','DATASRCE','RFA_18','RFA_16',\n",
    "                               'RFA_14','RFA_9','RFA_11','RFA_12','RFA_8','OSOURCE','FISTDATE'              \n",
    "                              ]]"
   ]
  },
  {
   "cell_type": "code",
   "execution_count": 43,
   "metadata": {},
   "outputs": [
    {
     "data": {
      "image/png": "[encoded data removed]",
      "text/plain": [
       "<Figure size 1440x432 with 1 Axes>"
      ]
     },
     "metadata": {},
     "output_type": "display_data"
    }
   ],
   "source": [
    "#Number of missing values in each feature\n",
    "sns.set()\n",
    "\n",
    "#figure\n",
    "fig,ax1 = plt.subplots(1,figsize=(20,6))\n",
    "\n",
    "#data\n",
    "ax1_data=missings.isna().sum().sort_values(ascending=False)\n",
    "ax1.bar(x=ax1_data.index, height=ax1_data)\n",
    "\n",
    "#layout\n",
    "plt.suptitle(\"Missing values - Donors Categorical\", fontsize=25)\n",
    "\n",
    "ax1.set_ylabel(\"Missing value count\")\n",
    "ax1.spines['right'].set_visible(False)\n",
    "ax1.spines['top'].set_visible(False)\n",
    "for tick in ax1.get_xticklabels():\n",
    "    tick.set_rotation(-45)\n",
    "\n",
    "plt.show()"
   ]
  },
  {
   "cell_type": "markdown",
   "metadata": {},
   "source": [
    "Once only categorical feautures have missing values, the imputation will be made using Most Frequent value, choosen for its simplicity and for working quite well on categorical data."
   ]
  },
  {
   "cell_type": "code",
   "execution_count": 44,
   "metadata": {},
   "outputs": [],
   "source": [
    "test = donors_categorical.copy()\n",
    "imputer = mdi.RandomSampleImputer(seeding_method='add')\n",
    "imputer.fit(test)\n",
    "test = imputer.transform(test)"
   ]
  },
  {
   "cell_type": "code",
   "execution_count": 45,
   "metadata": {},
   "outputs": [
    {
     "data": {
      "text/plain": [
       "MDMAUD_A    0\n",
       "MDMAUD_F    0\n",
       "ETH7        0\n",
       "ETH6        0\n",
       "ETH5        0\n",
       "dtype: int64"
      ]
     },
     "execution_count": 45,
     "metadata": {},
     "output_type": "execute_result"
    }
   ],
   "source": [
    "test.isna().sum().sort_values(ascending = False).head()"
   ]
  },
  {
   "cell_type": "code",
   "execution_count": 46,
   "metadata": {},
   "outputs": [],
   "source": [
    "donors_categorical = test.copy()"
   ]
  },
  {
   "cell_type": "markdown",
   "metadata": {},
   "source": [
    "<hr>\n",
    "<a class=\"anchor\" id=\"2.4.\">\n",
    "    \n",
    "# 2.4. Handling Outliers - Donors\n",
    "</a>"
   ]
  },
  {
   "cell_type": "markdown",
   "metadata": {},
   "source": [
    "Source:\n",
    "- https://scikit-learn.org/stable/modules/generated/sklearn.neighbors.LocalOutlierFactor.html\n",
    "- https://www.statisticssolutions.com/univariate-and-multivariate-outliers/\n",
    "\n",
    "The following was also inspired by David Silva & Susana Paco, Data Mining’s Final Project, available at:\n",
    "- https://github.com/DavidSilva98/DataMiningFinalProject \n",
    "\n",
    "Thus, Pratical lessons (Labs) guide the major part of the preprocessing, which can be found on NOVA IMS' Moodle."
   ]
  },
  {
   "cell_type": "markdown",
   "metadata": {},
   "source": [
    "<hr>\n",
    "<a class=\"anchor\" id=\"2.4.1.\">\n",
    "    \n",
    "# 2.4.1. Univariate Normal Distribution\n",
    "    \n",
    "</a>"
   ]
  },
  {
   "cell_type": "markdown",
   "metadata": {},
   "source": [
    "We'll use two of the most common approaches to make data more Gaussian-like: Yeo-Johnson and Quantile transformations"
   ]
  },
  {
   "cell_type": "code",
   "execution_count": 47,
   "metadata": {},
   "outputs": [],
   "source": [
    "data = donors_metric.copy()"
   ]
  },
  {
   "cell_type": "code",
   "execution_count": 48,
   "metadata": {},
   "outputs": [],
   "source": [
    "# Transformations\n",
    "rstate = np.random.RandomState(304)\n",
    "yj = prep.PowerTransformer(method='yeo-johnson')\n",
    "qt = prep.QuantileTransformer(n_quantiles=500, output_distribution='normal', random_state=rstate)\n",
    "\n",
    "# Fitting transformations\n",
    "Donors_yj = yj.fit_transform(data)\n",
    "Donors_qt = qt.fit_transform(data)\n",
    "\n",
    "Dftransformed = np.concatenate((Donors_qt, Donors_yj), axis=1)\n",
    "\n",
    "# Creating DataFrame\n",
    "merge_labels =list(map(lambda x: \"yj_\" + x, data.columns.to_list()))+list(map(lambda x: \"qt_\" + x, data.columns.to_list()))\n",
    "df_donors = pd.DataFrame(Dftransformed, columns=merge_labels, index=data.index)"
   ]
  },
  {
   "cell_type": "code",
   "execution_count": 49,
   "metadata": {
    "scrolled": false
   },
   "outputs": [
    {
     "data": {
      "image/png": "[encoded data removed]",
      "text/plain": [
       "<Figure size 1080x864 with 24 Axes>"
      ]
     },
     "metadata": {},
     "output_type": "display_data"
    }
   ],
   "source": [
    "# Plotting data after transformation\n",
    "sns.set()\n",
    "fig, axes = plt.subplots(6,4, constrained_layout=True, figsize=(15,12))\n",
    "\n",
    "fig.suptitle(\"Distribution transformation - Donors Metrics\\n\", fontsize=25)\n",
    "\n",
    "for col, ax in zip(df_donors.columns, axes.flatten()):\n",
    "    x = df_donors.loc[:,col]\n",
    "    statsm.qqplot(x, line=\"q\", ax=ax)\n",
    "    ax.set_title(col)\n",
    "\n",
    "plt.show()"
   ]
  },
  {
   "cell_type": "markdown",
   "metadata": {},
   "source": [
    "The alligment in the charts of the points over the line tells us that the transformation to a Normal Distribuition is quite aceptable."
   ]
  },
  {
   "cell_type": "markdown",
   "metadata": {},
   "source": [
    "<hr>\n",
    "<a class=\"anchor\" id=\"2.4.2.\">\n",
    "    \n",
    "# 2.4.2. Univariate Outliers\n",
    "    \n",
    "</a>"
   ]
  },
  {
   "cell_type": "code",
   "execution_count": 50,
   "metadata": {},
   "outputs": [],
   "source": [
    "# OUTLIERS FROM DONORS\n",
    "qt_donors = df_donors.loc[:,[i for i in df_donors.columns.to_list() if \"qt\" in i]]\n",
    "yj_donors = df_donors.loc[:,[i for i in df_donors.columns.to_list() if \"yj\" in i]]"
   ]
  },
  {
   "cell_type": "markdown",
   "metadata": {},
   "source": [
    "For each row, we'll check univariate outliers through the Standard Deviation and the IQR method, which may not be very accurate due to the big amount of data and their dispersion."
   ]
  },
  {
   "cell_type": "code",
   "execution_count": 51,
   "metadata": {},
   "outputs": [],
   "source": [
    "def std(data, n =3.0, return_thresholds=False):\n",
    "    data_mean = data.mean()\n",
    "    data_std = data.std()\n",
    "    threshold = data_std * n\n",
    "    lower, upper = data_mean - threshold, data_mean + threshold\n",
    "    if return_thresholds:\n",
    "        return lower, upper\n",
    "    else:\n",
    "        return data.apply(lambda x: np.any((x<lower) | (x>upper)), 1)\n",
    "\n",
    "def iqr(data, k=1.5, return_thresholds=False):\n",
    "    q25, q75 = np.percentile(data, 25, axis=0), np.percentile(data, 75, axis=0)\n",
    "    iqr = q75 - q25\n",
    "    threshold = iqr * k\n",
    "    lower, upper = q25 - threshold, q75 + threshold\n",
    "    if return_thresholds:\n",
    "        return lower, upper\n",
    "    else:\n",
    "        return data.apply(lambda x: np.any((x<lower) | (x>upper)), 1)"
   ]
  },
  {
   "cell_type": "code",
   "execution_count": 52,
   "metadata": {},
   "outputs": [],
   "source": [
    "#OUTLIERS FOR DONORS\n",
    "outlier_donors = pd.concat([std(yj_donors, 4), std(qt_donors, 4), iqr(yj_donors, 2.5), iqr(qt_donors, 2.5)], axis=1)\n",
    "outlier_donors.columns = [\"outyjstd\",\"outqtstd\",\"outyjiqr\",\"outqtiqr\"]"
   ]
  },
  {
   "cell_type": "markdown",
   "metadata": {},
   "source": [
    "Once we're dealing with a lot of data and its variance it's quite high, we cant be too restrict on the conditions, even though \n",
    "we might not get a very accurate outlier removal this way."
   ]
  },
  {
   "cell_type": "markdown",
   "metadata": {},
   "source": [
    "<hr>\n",
    "<a class=\"anchor\" id=\"2.4.3.\">\n",
    "    \n",
    "# 2.4.3. Multivariate Outliers\n",
    "    \n",
    "</a>"
   ]
  },
  {
   "cell_type": "markdown",
   "metadata": {},
   "source": [
    "Multivariate outliers will be identified with the use of local outlier factor (LOF)\n",
    "\n",
    "The LOF is based on a concept of a local density, where locality is given by k-nearest neighbours, whose distance is used to estimate the density. By comparing the local density of an object to the local densities of its neighbours, one can identify regions of similar density, and points that have a substantially lower density than their neighbours, which are considered to be outliers."
   ]
  },
  {
   "cell_type": "markdown",
   "metadata": {},
   "source": [
    "## Donors"
   ]
  },
  {
   "cell_type": "code",
   "execution_count": 53,
   "metadata": {},
   "outputs": [],
   "source": [
    "std_data = prep.MinMaxScaler().fit_transform(data)"
   ]
  },
  {
   "cell_type": "code",
   "execution_count": 54,
   "metadata": {},
   "outputs": [],
   "source": [
    "lof = neighb.LocalOutlierFactor(n_neighbors=50, contamination=\"auto\")\n",
    "outlof = lof.fit_predict(std_data)\n",
    "lof_scores = lof.fit(std_data).negative_outlier_factor_"
   ]
  },
  {
   "cell_type": "code",
   "execution_count": 55,
   "metadata": {},
   "outputs": [
    {
     "data": {
      "image/png": "[encoded data removed]",
      "text/plain": [
       "<Figure size 1080x576 with 1 Axes>"
      ]
     },
     "metadata": {},
     "output_type": "display_data"
    }
   ],
   "source": [
    "sns.set()\n",
    "\n",
    "fig = plt.figure(figsize=(15,8))\n",
    "gs = gspec.GridSpec(2,2)\n",
    "ax1 = fig.add_subplot(gs[1,0]) \n",
    "ax1.plot(np.sort(lof_scores)[:50])\n",
    "ax1.set_title(\"1: LOF scores between 0 and 100\")\n",
    "plt.subplots_adjust(hspace=0.3)\n",
    "\n",
    "plt.show()"
   ]
  },
  {
   "cell_type": "markdown",
   "metadata": {},
   "source": [
    "The LOF graphics gives us information that, for the vast majority of the observations, the score is quite normal. However, there's around 20-25 observations that will be considered potential outliers, as its scores differ from the rest."
   ]
  },
  {
   "cell_type": "code",
   "execution_count": 56,
   "metadata": {},
   "outputs": [],
   "source": [
    "top_lof_scores = data.index.isin(lof_scores.argsort()[:20]+1)"
   ]
  },
  {
   "cell_type": "code",
   "execution_count": 57,
   "metadata": {},
   "outputs": [],
   "source": [
    "outlier_donors = pd.concat([outlier_donors,pd.Series(data=(outlof==-1), index=data.index),\n",
    "                            pd.Series(data=top_lof_scores, index=data.index)], axis=1)\n",
    "outlier_donors.columns = [\"outyjstd\", \"outqtstd\", \"outyjiqr\", \"outqtiqr\", \"outlof\", \"outlofscree\"]"
   ]
  },
  {
   "cell_type": "code",
   "execution_count": 58,
   "metadata": {},
   "outputs": [
    {
     "data": {
      "text/html": [
       "<div>\n",
       "<style scoped>\n",
       "    .dataframe tbody tr th:only-of-type {\n",
       "        vertical-align: middle;\n",
       "    }\n",
       "\n",
       "    .dataframe tbody tr th {\n",
       "        vertical-align: top;\n",
       "    }\n",
       "\n",
       "    .dataframe thead th {\n",
       "        text-align: right;\n",
       "    }\n",
       "</style>\n",
       "<table border=\"1\" class=\"dataframe\">\n",
       "  <thead>\n",
       "    <tr style=\"text-align: right;\">\n",
       "      <th></th>\n",
       "      <th>Proportion of potential outliers for each method:</th>\n",
       "    </tr>\n",
       "  </thead>\n",
       "  <tbody>\n",
       "    <tr>\n",
       "      <th>outyjstd</th>\n",
       "      <td>2.0</td>\n",
       "    </tr>\n",
       "    <tr>\n",
       "      <th>outqtstd</th>\n",
       "      <td>1.7</td>\n",
       "    </tr>\n",
       "    <tr>\n",
       "      <th>outyjiqr</th>\n",
       "      <td>15.4</td>\n",
       "    </tr>\n",
       "    <tr>\n",
       "      <th>outqtiqr</th>\n",
       "      <td>10.3</td>\n",
       "    </tr>\n",
       "    <tr>\n",
       "      <th>outlof</th>\n",
       "      <td>5.3</td>\n",
       "    </tr>\n",
       "    <tr>\n",
       "      <th>outlofscree</th>\n",
       "      <td>0.0</td>\n",
       "    </tr>\n",
       "  </tbody>\n",
       "</table>\n",
       "</div>"
      ],
      "text/plain": [
       "             Proportion of potential outliers for each method:\n",
       "outyjstd                                                   2.0\n",
       "outqtstd                                                   1.7\n",
       "outyjiqr                                                  15.4\n",
       "outqtiqr                                                  10.3\n",
       "outlof                                                     5.3\n",
       "outlofscree                                                0.0"
      ]
     },
     "execution_count": 58,
     "metadata": {},
     "output_type": "execute_result"
    }
   ],
   "source": [
    "pd.DataFrame(np.round((outlier_donors).mean(),3)*100, columns=[\"Proportion of potential outliers for each method:\"])"
   ]
  },
  {
   "cell_type": "markdown",
   "metadata": {},
   "source": [
    "We decided to use a combination of the local outlier factor and the more common std (both yeo-johnson and qt). In fact, we also complemented the process with the IQR method (qt), once it increased the efficiency of the process.This way, we'll eliminate outliers that would bias our analysis, whilst keeping around 97% of the initial data.\n",
    "\n",
    "One important note is that the IQR scored high, given that the dataset is not normally distributed and, therefore, almost all variables have a very high range of values."
   ]
  },
  {
   "cell_type": "code",
   "execution_count": 59,
   "metadata": {},
   "outputs": [],
   "source": [
    "#working only with those who, at least, we're flagged 2 times\n",
    "out_mask = outlier_donors[['outqtstd','outlof','outyjstd','outqtiqr']].apply(lambda x: x.sum(), axis=1) > 1"
   ]
  },
  {
   "cell_type": "code",
   "execution_count": 60,
   "metadata": {
    "scrolled": true
   },
   "outputs": [
    {
     "data": {
      "text/plain": [
       "False    92827\n",
       "True      2585\n",
       "dtype: int64"
      ]
     },
     "execution_count": 60,
     "metadata": {},
     "output_type": "execute_result"
    }
   ],
   "source": [
    "out_mask.value_counts()"
   ]
  },
  {
   "cell_type": "markdown",
   "metadata": {},
   "source": [
    "## Checking Results"
   ]
  },
  {
   "cell_type": "markdown",
   "metadata": {},
   "source": [
    "Even though we deleted around 3% of the data, one can still see that there are a lot of potencial outliers remaining in the data, according to other methods."
   ]
  },
  {
   "cell_type": "code",
   "execution_count": 61,
   "metadata": {
    "scrolled": true
   },
   "outputs": [
    {
     "data": {
      "image/png": "[encoded data removed]",
      "text/plain": [
       "<Figure size 432x288 with 1 Axes>"
      ]
     },
     "metadata": {},
     "output_type": "display_data"
    },
    {
     "data": {
      "image/png": "[encoded data removed]",
      "text/plain": [
       "<Figure size 432x288 with 1 Axes>"
      ]
     },
     "metadata": {},
     "output_type": "display_data"
    },
    {
     "data": {
      "image/png": "[encoded data removed]",
      "text/plain": [
       "<Figure size 432x288 with 1 Axes>"
      ]
     },
     "metadata": {},
     "output_type": "display_data"
    },
    {
     "data": {
      "image/png": "[encoded data removed]",
      "text/plain": [
       "<Figure size 432x288 with 1 Axes>"
      ]
     },
     "metadata": {},
     "output_type": "display_data"
    },
    {
     "data": {
      "image/png": "[encoded data removed]",
      "text/plain": [
       "<Figure size 432x288 with 1 Axes>"
      ]
     },
     "metadata": {},
     "output_type": "display_data"
    },
    {
     "data": {
      "image/png": "[encoded data removed]",
      "text/plain": [
       "<Figure size 432x288 with 1 Axes>"
      ]
     },
     "metadata": {},
     "output_type": "display_data"
    },
    {
     "data": {
      "image/png": "[encoded data removed]",
      "text/plain": [
       "<Figure size 432x288 with 1 Axes>"
      ]
     },
     "metadata": {},
     "output_type": "display_data"
    },
    {
     "data": {
      "image/png": "[encoded data removed]",
      "text/plain": [
       "<Figure size 432x288 with 1 Axes>"
      ]
     },
     "metadata": {},
     "output_type": "display_data"
    },
    {
     "data": {
      "image/png": "[encoded data removed]",
      "text/plain": [
       "<Figure size 432x288 with 1 Axes>"
      ]
     },
     "metadata": {},
     "output_type": "display_data"
    },
    {
     "data": {
      "image/png": "[encoded data removed]",
      "text/plain": [
       "<Figure size 432x288 with 1 Axes>"
      ]
     },
     "metadata": {},
     "output_type": "display_data"
    },
    {
     "data": {
      "image/png": "[encoded data removed]",
      "text/plain": [
       "<Figure size 432x288 with 1 Axes>"
      ]
     },
     "metadata": {},
     "output_type": "display_data"
    },
    {
     "data": {
      "image/png": "[encoded data removed]",
      "text/plain": [
       "<Figure size 432x288 with 1 Axes>"
      ]
     },
     "metadata": {},
     "output_type": "display_data"
    }
   ],
   "source": [
    "def outliers(df):\n",
    "    for row in df.columns:\n",
    "        df[row].plot(kind='box')\n",
    "        plt.show()        \n",
    "outliers(donors_metric[~out_mask])"
   ]
  },
  {
   "cell_type": "code",
   "execution_count": 62,
   "metadata": {
    "scrolled": false
   },
   "outputs": [
    {
     "data": {
      "text/plain": [
       "<matplotlib.axes._subplots.AxesSubplot at 0x1b389dbac40>"
      ]
     },
     "execution_count": 62,
     "metadata": {},
     "output_type": "execute_result"
    },
    {
     "data": {
      "image/png": "[encoded data removed]",
      "text/plain": [
       "<Figure size 792x648 with 2 Axes>"
      ]
     },
     "metadata": {},
     "output_type": "display_data"
    }
   ],
   "source": [
    "# CORRELATION MATRIX\n",
    "df = pd.DataFrame(data=donors_metric[~out_mask])\n",
    "corr = df.corr()\n",
    "upper = np.triu(np.ones_like(corr, dtype=bool))\n",
    "f, ax = plt.subplots(figsize=(11, 9))\n",
    "cmap = sns.diverging_palette(230, 20, as_cmap=True)\n",
    "\n",
    "sns.heatmap(corr, mask=upper, cmap=cmap, vmax=.3, center=0,\n",
    "            square=True, linewidths=.5, cbar_kws={\"shrink\": .5})"
   ]
  },
  {
   "cell_type": "markdown",
   "metadata": {},
   "source": [
    "This heatmap shows us that correlations are neither very high or very low values, which could be redundant and make the clusters analysis harder."
   ]
  },
  {
   "cell_type": "code",
   "execution_count": 63,
   "metadata": {},
   "outputs": [],
   "source": [
    "df_out = data[out_mask] "
   ]
  },
  {
   "cell_type": "code",
   "execution_count": 64,
   "metadata": {},
   "outputs": [],
   "source": [
    "donors = donors[~out_mask]"
   ]
  },
  {
   "cell_type": "markdown",
   "metadata": {},
   "source": [
    "<hr>\n",
    "<a class=\"anchor\" id=\"2.5.\">\n",
    "    \n",
    "# 2.5. Missing Values - Info\n",
    "    \n",
    "</a>"
   ]
  },
  {
   "cell_type": "markdown",
   "metadata": {},
   "source": [
    "It will now be applied to Info variables the exact same procedures as for Donors features and, for that reason, we'll skip some explanations, once they're the same as for Donors. Thus, since there are nearly 270 features, visualizations will also be reduced in order to spare some space and memory."
   ]
  },
  {
   "cell_type": "markdown",
   "metadata": {},
   "source": [
    "**Info Metric**"
   ]
  },
  {
   "cell_type": "code",
   "execution_count": 66,
   "metadata": {},
   "outputs": [],
   "source": [
    "test = info.copy()\n",
    "test_metric = info_metric.copy()\n",
    "test_categorical = info_categorical.copy()"
   ]
  },
  {
   "cell_type": "code",
   "execution_count": 67,
   "metadata": {
    "scrolled": true
   },
   "outputs": [
    {
     "data": {
      "text/plain": [
       "AGE       23883\n",
       "INCOME    21286\n",
       "MSA         132\n",
       "ADI         132\n",
       "DMA         132\n",
       "dtype: int64"
      ]
     },
     "execution_count": 67,
     "metadata": {},
     "output_type": "execute_result"
    }
   ],
   "source": [
    "test_metric.isna().sum().sort_values(ascending = False).head()"
   ]
  },
  {
   "cell_type": "code",
   "execution_count": 68,
   "metadata": {},
   "outputs": [],
   "source": [
    "imputer = KNNImputer(n_neighbors=50)\n",
    "test_metric = imputer.fit_transform(test_metric)"
   ]
  },
  {
   "cell_type": "code",
   "execution_count": 69,
   "metadata": {},
   "outputs": [
    {
     "data": {
      "text/plain": [
       "(95412, 269)"
      ]
     },
     "execution_count": 69,
     "metadata": {},
     "output_type": "execute_result"
    }
   ],
   "source": [
    "test_metric.shape"
   ]
  },
  {
   "cell_type": "code",
   "execution_count": 70,
   "metadata": {},
   "outputs": [],
   "source": [
    "imputed_info_m = pd.DataFrame(test_metric, info_metric.index)\n",
    "imputed_info_m.columns = info_metric.columns"
   ]
  },
  {
   "cell_type": "code",
   "execution_count": 71,
   "metadata": {},
   "outputs": [
    {
     "data": {
      "text/html": [
       "<div>\n",
       "<style scoped>\n",
       "    .dataframe tbody tr th:only-of-type {\n",
       "        vertical-align: middle;\n",
       "    }\n",
       "\n",
       "    .dataframe tbody tr th {\n",
       "        vertical-align: top;\n",
       "    }\n",
       "\n",
       "    .dataframe thead th {\n",
       "        text-align: right;\n",
       "    }\n",
       "</style>\n",
       "<table border=\"1\" class=\"dataframe\">\n",
       "  <thead>\n",
       "    <tr style=\"text-align: right;\">\n",
       "      <th></th>\n",
       "      <th>AGE</th>\n",
       "      <th>INCOME</th>\n",
       "      <th>MALEMILI</th>\n",
       "      <th>MALEVET</th>\n",
       "      <th>VIETVETS</th>\n",
       "      <th>WWIIVETS</th>\n",
       "      <th>LOCALGOV</th>\n",
       "      <th>STATEGOV</th>\n",
       "      <th>FEDGOV</th>\n",
       "      <th>AGE902</th>\n",
       "      <th>...</th>\n",
       "      <th>HC15</th>\n",
       "      <th>HC16</th>\n",
       "      <th>HC17</th>\n",
       "      <th>HC18</th>\n",
       "      <th>HC19</th>\n",
       "      <th>HC20</th>\n",
       "      <th>HC21</th>\n",
       "      <th>MHUC1</th>\n",
       "      <th>MHUC2</th>\n",
       "      <th>AC1</th>\n",
       "    </tr>\n",
       "    <tr>\n",
       "      <th>CONTROLN</th>\n",
       "      <th></th>\n",
       "      <th></th>\n",
       "      <th></th>\n",
       "      <th></th>\n",
       "      <th></th>\n",
       "      <th></th>\n",
       "      <th></th>\n",
       "      <th></th>\n",
       "      <th></th>\n",
       "      <th></th>\n",
       "      <th></th>\n",
       "      <th></th>\n",
       "      <th></th>\n",
       "      <th></th>\n",
       "      <th></th>\n",
       "      <th></th>\n",
       "      <th></th>\n",
       "      <th></th>\n",
       "      <th></th>\n",
       "      <th></th>\n",
       "      <th></th>\n",
       "    </tr>\n",
       "  </thead>\n",
       "  <tbody>\n",
       "    <tr>\n",
       "      <th>95515</th>\n",
       "      <td>63.00</td>\n",
       "      <td>3.72</td>\n",
       "      <td>0.0</td>\n",
       "      <td>39.0</td>\n",
       "      <td>34.0</td>\n",
       "      <td>18.0</td>\n",
       "      <td>10.0</td>\n",
       "      <td>2.0</td>\n",
       "      <td>1.0</td>\n",
       "      <td>48.0</td>\n",
       "      <td>...</td>\n",
       "      <td>0.0</td>\n",
       "      <td>0.0</td>\n",
       "      <td>33.0</td>\n",
       "      <td>65.0</td>\n",
       "      <td>40.0</td>\n",
       "      <td>99.0</td>\n",
       "      <td>99.0</td>\n",
       "      <td>6.0</td>\n",
       "      <td>2.0</td>\n",
       "      <td>10.0</td>\n",
       "    </tr>\n",
       "    <tr>\n",
       "      <th>148535</th>\n",
       "      <td>48.00</td>\n",
       "      <td>6.00</td>\n",
       "      <td>0.0</td>\n",
       "      <td>15.0</td>\n",
       "      <td>55.0</td>\n",
       "      <td>11.0</td>\n",
       "      <td>6.0</td>\n",
       "      <td>2.0</td>\n",
       "      <td>1.0</td>\n",
       "      <td>41.0</td>\n",
       "      <td>...</td>\n",
       "      <td>0.0</td>\n",
       "      <td>0.0</td>\n",
       "      <td>99.0</td>\n",
       "      <td>0.0</td>\n",
       "      <td>99.0</td>\n",
       "      <td>99.0</td>\n",
       "      <td>99.0</td>\n",
       "      <td>20.0</td>\n",
       "      <td>4.0</td>\n",
       "      <td>6.0</td>\n",
       "    </tr>\n",
       "    <tr>\n",
       "      <th>15078</th>\n",
       "      <td>60.66</td>\n",
       "      <td>3.00</td>\n",
       "      <td>0.0</td>\n",
       "      <td>20.0</td>\n",
       "      <td>29.0</td>\n",
       "      <td>33.0</td>\n",
       "      <td>6.0</td>\n",
       "      <td>8.0</td>\n",
       "      <td>1.0</td>\n",
       "      <td>43.0</td>\n",
       "      <td>...</td>\n",
       "      <td>0.0</td>\n",
       "      <td>15.0</td>\n",
       "      <td>22.0</td>\n",
       "      <td>77.0</td>\n",
       "      <td>17.0</td>\n",
       "      <td>97.0</td>\n",
       "      <td>92.0</td>\n",
       "      <td>9.0</td>\n",
       "      <td>2.0</td>\n",
       "      <td>6.0</td>\n",
       "    </tr>\n",
       "    <tr>\n",
       "      <th>172556</th>\n",
       "      <td>72.00</td>\n",
       "      <td>1.00</td>\n",
       "      <td>0.0</td>\n",
       "      <td>23.0</td>\n",
       "      <td>14.0</td>\n",
       "      <td>31.0</td>\n",
       "      <td>3.0</td>\n",
       "      <td>0.0</td>\n",
       "      <td>3.0</td>\n",
       "      <td>40.0</td>\n",
       "      <td>...</td>\n",
       "      <td>0.0</td>\n",
       "      <td>16.0</td>\n",
       "      <td>23.0</td>\n",
       "      <td>77.0</td>\n",
       "      <td>22.0</td>\n",
       "      <td>93.0</td>\n",
       "      <td>89.0</td>\n",
       "      <td>16.0</td>\n",
       "      <td>2.0</td>\n",
       "      <td>6.0</td>\n",
       "    </tr>\n",
       "    <tr>\n",
       "      <th>7112</th>\n",
       "      <td>80.00</td>\n",
       "      <td>3.00</td>\n",
       "      <td>1.0</td>\n",
       "      <td>28.0</td>\n",
       "      <td>9.0</td>\n",
       "      <td>53.0</td>\n",
       "      <td>26.0</td>\n",
       "      <td>3.0</td>\n",
       "      <td>2.0</td>\n",
       "      <td>45.0</td>\n",
       "      <td>...</td>\n",
       "      <td>0.0</td>\n",
       "      <td>0.0</td>\n",
       "      <td>99.0</td>\n",
       "      <td>1.0</td>\n",
       "      <td>21.0</td>\n",
       "      <td>99.0</td>\n",
       "      <td>96.0</td>\n",
       "      <td>6.0</td>\n",
       "      <td>2.0</td>\n",
       "      <td>7.0</td>\n",
       "    </tr>\n",
       "    <tr>\n",
       "      <th>...</th>\n",
       "      <td>...</td>\n",
       "      <td>...</td>\n",
       "      <td>...</td>\n",
       "      <td>...</td>\n",
       "      <td>...</td>\n",
       "      <td>...</td>\n",
       "      <td>...</td>\n",
       "      <td>...</td>\n",
       "      <td>...</td>\n",
       "      <td>...</td>\n",
       "      <td>...</td>\n",
       "      <td>...</td>\n",
       "      <td>...</td>\n",
       "      <td>...</td>\n",
       "      <td>...</td>\n",
       "      <td>...</td>\n",
       "      <td>...</td>\n",
       "      <td>...</td>\n",
       "      <td>...</td>\n",
       "      <td>...</td>\n",
       "      <td>...</td>\n",
       "    </tr>\n",
       "    <tr>\n",
       "      <th>184568</th>\n",
       "      <td>56.78</td>\n",
       "      <td>4.46</td>\n",
       "      <td>14.0</td>\n",
       "      <td>36.0</td>\n",
       "      <td>47.0</td>\n",
       "      <td>11.0</td>\n",
       "      <td>7.0</td>\n",
       "      <td>8.0</td>\n",
       "      <td>13.0</td>\n",
       "      <td>35.0</td>\n",
       "      <td>...</td>\n",
       "      <td>0.0</td>\n",
       "      <td>1.0</td>\n",
       "      <td>93.0</td>\n",
       "      <td>7.0</td>\n",
       "      <td>98.0</td>\n",
       "      <td>99.0</td>\n",
       "      <td>98.0</td>\n",
       "      <td>16.0</td>\n",
       "      <td>4.0</td>\n",
       "      <td>4.0</td>\n",
       "    </tr>\n",
       "    <tr>\n",
       "      <th>122706</th>\n",
       "      <td>50.00</td>\n",
       "      <td>7.00</td>\n",
       "      <td>0.0</td>\n",
       "      <td>31.0</td>\n",
       "      <td>43.0</td>\n",
       "      <td>19.0</td>\n",
       "      <td>4.0</td>\n",
       "      <td>1.0</td>\n",
       "      <td>0.0</td>\n",
       "      <td>40.0</td>\n",
       "      <td>...</td>\n",
       "      <td>0.0</td>\n",
       "      <td>0.0</td>\n",
       "      <td>69.0</td>\n",
       "      <td>31.0</td>\n",
       "      <td>67.0</td>\n",
       "      <td>99.0</td>\n",
       "      <td>97.0</td>\n",
       "      <td>18.0</td>\n",
       "      <td>5.0</td>\n",
       "      <td>3.0</td>\n",
       "    </tr>\n",
       "    <tr>\n",
       "      <th>189641</th>\n",
       "      <td>62.00</td>\n",
       "      <td>3.06</td>\n",
       "      <td>0.0</td>\n",
       "      <td>18.0</td>\n",
       "      <td>46.0</td>\n",
       "      <td>20.0</td>\n",
       "      <td>7.0</td>\n",
       "      <td>23.0</td>\n",
       "      <td>0.0</td>\n",
       "      <td>35.0</td>\n",
       "      <td>...</td>\n",
       "      <td>0.0</td>\n",
       "      <td>4.0</td>\n",
       "      <td>99.0</td>\n",
       "      <td>0.0</td>\n",
       "      <td>99.0</td>\n",
       "      <td>99.0</td>\n",
       "      <td>99.0</td>\n",
       "      <td>5.0</td>\n",
       "      <td>2.0</td>\n",
       "      <td>3.0</td>\n",
       "    </tr>\n",
       "    <tr>\n",
       "      <th>4693</th>\n",
       "      <td>60.00</td>\n",
       "      <td>7.00</td>\n",
       "      <td>0.0</td>\n",
       "      <td>28.0</td>\n",
       "      <td>35.0</td>\n",
       "      <td>20.0</td>\n",
       "      <td>9.0</td>\n",
       "      <td>1.0</td>\n",
       "      <td>1.0</td>\n",
       "      <td>42.0</td>\n",
       "      <td>...</td>\n",
       "      <td>0.0</td>\n",
       "      <td>0.0</td>\n",
       "      <td>99.0</td>\n",
       "      <td>0.0</td>\n",
       "      <td>99.0</td>\n",
       "      <td>99.0</td>\n",
       "      <td>99.0</td>\n",
       "      <td>12.0</td>\n",
       "      <td>3.0</td>\n",
       "      <td>6.0</td>\n",
       "    </tr>\n",
       "    <tr>\n",
       "      <th>185114</th>\n",
       "      <td>82.00</td>\n",
       "      <td>5.00</td>\n",
       "      <td>1.0</td>\n",
       "      <td>33.0</td>\n",
       "      <td>22.0</td>\n",
       "      <td>27.0</td>\n",
       "      <td>8.0</td>\n",
       "      <td>10.0</td>\n",
       "      <td>3.0</td>\n",
       "      <td>40.0</td>\n",
       "      <td>...</td>\n",
       "      <td>0.0</td>\n",
       "      <td>0.0</td>\n",
       "      <td>94.0</td>\n",
       "      <td>6.0</td>\n",
       "      <td>89.0</td>\n",
       "      <td>99.0</td>\n",
       "      <td>99.0</td>\n",
       "      <td>8.0</td>\n",
       "      <td>3.0</td>\n",
       "      <td>7.0</td>\n",
       "    </tr>\n",
       "  </tbody>\n",
       "</table>\n",
       "<p>95412 rows × 269 columns</p>\n",
       "</div>"
      ],
      "text/plain": [
       "            AGE  INCOME  MALEMILI  MALEVET  VIETVETS  WWIIVETS  LOCALGOV  \\\n",
       "CONTROLN                                                                   \n",
       "95515     63.00    3.72       0.0     39.0      34.0      18.0      10.0   \n",
       "148535    48.00    6.00       0.0     15.0      55.0      11.0       6.0   \n",
       "15078     60.66    3.00       0.0     20.0      29.0      33.0       6.0   \n",
       "172556    72.00    1.00       0.0     23.0      14.0      31.0       3.0   \n",
       "7112      80.00    3.00       1.0     28.0       9.0      53.0      26.0   \n",
       "...         ...     ...       ...      ...       ...       ...       ...   \n",
       "184568    56.78    4.46      14.0     36.0      47.0      11.0       7.0   \n",
       "122706    50.00    7.00       0.0     31.0      43.0      19.0       4.0   \n",
       "189641    62.00    3.06       0.0     18.0      46.0      20.0       7.0   \n",
       "4693      60.00    7.00       0.0     28.0      35.0      20.0       9.0   \n",
       "185114    82.00    5.00       1.0     33.0      22.0      27.0       8.0   \n",
       "\n",
       "          STATEGOV  FEDGOV  AGE902  ...  HC15  HC16  HC17  HC18  HC19  HC20  \\\n",
       "CONTROLN                            ...                                       \n",
       "95515          2.0     1.0    48.0  ...   0.0   0.0  33.0  65.0  40.0  99.0   \n",
       "148535         2.0     1.0    41.0  ...   0.0   0.0  99.0   0.0  99.0  99.0   \n",
       "15078          8.0     1.0    43.0  ...   0.0  15.0  22.0  77.0  17.0  97.0   \n",
       "172556         0.0     3.0    40.0  ...   0.0  16.0  23.0  77.0  22.0  93.0   \n",
       "7112           3.0     2.0    45.0  ...   0.0   0.0  99.0   1.0  21.0  99.0   \n",
       "...            ...     ...     ...  ...   ...   ...   ...   ...   ...   ...   \n",
       "184568         8.0    13.0    35.0  ...   0.0   1.0  93.0   7.0  98.0  99.0   \n",
       "122706         1.0     0.0    40.0  ...   0.0   0.0  69.0  31.0  67.0  99.0   \n",
       "189641        23.0     0.0    35.0  ...   0.0   4.0  99.0   0.0  99.0  99.0   \n",
       "4693           1.0     1.0    42.0  ...   0.0   0.0  99.0   0.0  99.0  99.0   \n",
       "185114        10.0     3.0    40.0  ...   0.0   0.0  94.0   6.0  89.0  99.0   \n",
       "\n",
       "          HC21  MHUC1  MHUC2   AC1  \n",
       "CONTROLN                            \n",
       "95515     99.0    6.0    2.0  10.0  \n",
       "148535    99.0   20.0    4.0   6.0  \n",
       "15078     92.0    9.0    2.0   6.0  \n",
       "172556    89.0   16.0    2.0   6.0  \n",
       "7112      96.0    6.0    2.0   7.0  \n",
       "...        ...    ...    ...   ...  \n",
       "184568    98.0   16.0    4.0   4.0  \n",
       "122706    97.0   18.0    5.0   3.0  \n",
       "189641    99.0    5.0    2.0   3.0  \n",
       "4693      99.0   12.0    3.0   6.0  \n",
       "185114    99.0    8.0    3.0   7.0  \n",
       "\n",
       "[95412 rows x 269 columns]"
      ]
     },
     "execution_count": 71,
     "metadata": {},
     "output_type": "execute_result"
    }
   ],
   "source": [
    "imputed_info_m"
   ]
  },
  {
   "cell_type": "code",
   "execution_count": 72,
   "metadata": {},
   "outputs": [
    {
     "data": {
      "text/plain": [
       "AC1      0\n",
       "HVP3     0\n",
       "HUPA5    0\n",
       "HUPA4    0\n",
       "HUPA3    0\n",
       "dtype: int64"
      ]
     },
     "execution_count": 72,
     "metadata": {},
     "output_type": "execute_result"
    }
   ],
   "source": [
    "imputed_info_m.isna().sum().sort_values(ascending = False).head()"
   ]
  },
  {
   "cell_type": "code",
   "execution_count": 73,
   "metadata": {},
   "outputs": [],
   "source": [
    "info_metric = imputed_info_m.copy()"
   ]
  },
  {
   "cell_type": "markdown",
   "metadata": {},
   "source": [
    "**Info Categorical**"
   ]
  },
  {
   "cell_type": "code",
   "execution_count": 74,
   "metadata": {},
   "outputs": [
    {
     "data": {
      "text/plain": [
       "ADATE_24    36973\n",
       "ADATE_21    35212\n",
       "RFA_5       33590\n",
       "ADATE_5     33590\n",
       "ADATE_10    32748\n",
       "ADATE_17    27650\n",
       "ADATE_22    25648\n",
       "ADATE_19    24480\n",
       "ADATE_18    21263\n",
       "ADATE_16    20364\n",
       "ADATE_14    18867\n",
       "ADATE_9     11245\n",
       "ADATE_11    10422\n",
       "ADATE_12     8923\n",
       "ADATE_7      8874\n",
       "RFA_7        8874\n",
       "ADATE_6      3557\n",
       "RFA_6        3557\n",
       "ADATE_8      3511\n",
       "DOMAIN       2316\n",
       "RFA_4        2312\n",
       "ADATE_4      2191\n",
       "RFA_3        1950\n",
       "ADATE_3      1950\n",
       "GEOCODE2      319\n",
       "CDPLAY          0\n",
       "COLLECT1        0\n",
       "HOMEE           0\n",
       "CATLG           0\n",
       "BIBLE           0\n",
       "dtype: int64"
      ]
     },
     "execution_count": 74,
     "metadata": {},
     "output_type": "execute_result"
    }
   ],
   "source": [
    "test_categorical.isna().sum().sort_values(ascending = False).head(30)"
   ]
  },
  {
   "cell_type": "code",
   "execution_count": 75,
   "metadata": {},
   "outputs": [],
   "source": [
    "missings = test_categorical[['ADATE_24','ADATE_21','ADATE_5','RFA_5','ADATE_10','ADATE_17','ADATE_22','ADATE_19','ADATE_18',\n",
    "                         'ADATE_16','ADATE_14','ADATE_9','ADATE_11','ADATE_12','ADATE_7','ADATE_8','ADATE_6',\n",
    "                         'RFA_6','DOMAIN','RFA_4','ADATE_4','ADATE_3','RFA_3','GEOCODE2']]"
   ]
  },
  {
   "cell_type": "code",
   "execution_count": 76,
   "metadata": {},
   "outputs": [
    {
     "data": {
      "image/png": "[encoded data removed]",
      "text/plain": [
       "<Figure size 1440x432 with 1 Axes>"
      ]
     },
     "metadata": {},
     "output_type": "display_data"
    }
   ],
   "source": [
    "#NUMBER OF MISSING VALUES IN EACH FEATURE\n",
    "\n",
    "sns.set()\n",
    "\n",
    "fig,ax1 = plt.subplots(1, figsize=(20,6))\n",
    "ax1_data=missings.isna().sum().sort_values(ascending=False)\n",
    "ax1.bar(x=ax1_data.index, height=ax1_data)\n",
    "plt.suptitle(\"Missing values - Info categorical\", fontsize=25)\n",
    "ax1.set_ylabel(\"Missing value count\")\n",
    "ax1.spines['right'].set_visible(False)\n",
    "ax1.spines['top'].set_visible(False)\n",
    "for tick in ax1.get_xticklabels():\n",
    "    tick.set_rotation(-45)\n",
    "\n",
    "plt.show()"
   ]
  },
  {
   "cell_type": "code",
   "execution_count": 77,
   "metadata": {},
   "outputs": [],
   "source": [
    "test = info_categorical.copy()\n",
    "imputer = mdi.RandomSampleImputer(seeding_method='add')\n",
    "imputer.fit(test)\n",
    "test = imputer.transform(test)"
   ]
  },
  {
   "cell_type": "code",
   "execution_count": 78,
   "metadata": {
    "scrolled": true
   },
   "outputs": [
    {
     "data": {
      "text/plain": [
       "RFA_7       0\n",
       "PETS        0\n",
       "PLATES      0\n",
       "CARDS       0\n",
       "KIDSTUFF    0\n",
       "dtype: int64"
      ]
     },
     "execution_count": 78,
     "metadata": {},
     "output_type": "execute_result"
    }
   ],
   "source": [
    "test.isna().sum().sort_values(ascending = False).head()"
   ]
  },
  {
   "cell_type": "code",
   "execution_count": 79,
   "metadata": {},
   "outputs": [],
   "source": [
    "info_categorical = test.copy()"
   ]
  },
  {
   "cell_type": "markdown",
   "metadata": {},
   "source": [
    "<hr>\n",
    "<a class=\"anchor\" id=\"2.6.\">\n",
    "    \n",
    "# 2.6. Handling Outliers - Info\n",
    "    \n",
    "</a>"
   ]
  },
  {
   "cell_type": "code",
   "execution_count": 80,
   "metadata": {},
   "outputs": [],
   "source": [
    "data = info_metric.copy()"
   ]
  },
  {
   "cell_type": "code",
   "execution_count": 81,
   "metadata": {},
   "outputs": [],
   "source": [
    "# Transformations\n",
    "rstate = np.random.RandomState(304)\n",
    "yj = prep.PowerTransformer(method='yeo-johnson')\n",
    "qt = prep.QuantileTransformer(n_quantiles=500, output_distribution='normal', random_state=rstate)\n",
    "\n",
    "Info_yj = yj.fit_transform(data)\n",
    "Info_qt = qt.fit_transform(data)\n",
    "\n",
    "#Merging\n",
    "Dftransformed = np.concatenate((Info_yj, Info_qt), axis=1)\n",
    "merge_labels =list(map(lambda x: \"yj_\" + x, data.columns.to_list()))+list(map(lambda x: \"qt_\" + x, data.columns.to_list()))\n",
    "df_info = pd.DataFrame(Dftransformed, columns=merge_labels, index=data.index)"
   ]
  },
  {
   "cell_type": "code",
   "execution_count": 82,
   "metadata": {},
   "outputs": [],
   "source": [
    "#Treating outliers from INFO\n",
    "qt_info = df_info.loc[:,[i for i in df_info.columns.to_list() if \"qt\" in i]]\n",
    "yj_info = df_info.loc[:,[i for i in df_info.columns.to_list() if \"yj\" in i]]"
   ]
  },
  {
   "cell_type": "code",
   "execution_count": 83,
   "metadata": {},
   "outputs": [],
   "source": [
    "#Outliers for INFO\n",
    "outlier_info = pd.concat([std(yj_info, 4), std(qt_info, 4), iqr(yj_info, 2.5), iqr(qt_info, 2.5)], axis=1)\n",
    "outlier_info.columns = [\"outyjstd\",\"outqtstd\",\"outyjiqr\",\"outqtiqr\"]"
   ]
  },
  {
   "cell_type": "code",
   "execution_count": 84,
   "metadata": {},
   "outputs": [],
   "source": [
    "std_data = prep.MinMaxScaler().fit_transform(data)"
   ]
  },
  {
   "cell_type": "code",
   "execution_count": 85,
   "metadata": {},
   "outputs": [],
   "source": [
    "lof = neighb.LocalOutlierFactor(n_neighbors=30, contamination=\"auto\")\n",
    "outlof = lof.fit_predict(std_data)\n",
    "lof_scores = lof.fit(std_data).negative_outlier_factor_"
   ]
  },
  {
   "cell_type": "code",
   "execution_count": 86,
   "metadata": {},
   "outputs": [
    {
     "data": {
      "image/png": "[encoded data removed]",
      "text/plain": [
       "<Figure size 1080x576 with 1 Axes>"
      ]
     },
     "metadata": {},
     "output_type": "display_data"
    }
   ],
   "source": [
    "sns.set()\n",
    "fig = plt.figure(figsize=(15,8))\n",
    "gs = gspec.GridSpec(2,2)\n",
    "ax1 = fig.add_subplot(gs[1,0]) # First row, second column\n",
    "ax1.plot(np.sort(lof_scores)[:50])\n",
    "\n",
    "ax1.set_title(\"1: LOF scores between 0 and 100\")\n",
    "plt.subplots_adjust(hspace=0.3)\n",
    "plt.show()"
   ]
  },
  {
   "cell_type": "code",
   "execution_count": 87,
   "metadata": {},
   "outputs": [],
   "source": [
    "top_lof_scores = data.index.isin(lof_scores.argsort()[:20]+1)\n",
    "out_mask = top_lof_scores"
   ]
  },
  {
   "cell_type": "code",
   "execution_count": 88,
   "metadata": {},
   "outputs": [
    {
     "data": {
      "text/plain": [
       "68757"
      ]
     },
     "execution_count": 88,
     "metadata": {},
     "output_type": "execute_result"
    }
   ],
   "source": [
    "std(info_metric).sum()"
   ]
  },
  {
   "cell_type": "code",
   "execution_count": 89,
   "metadata": {},
   "outputs": [
    {
     "data": {
      "text/plain": [
       "95171"
      ]
     },
     "execution_count": 89,
     "metadata": {},
     "output_type": "execute_result"
    }
   ],
   "source": [
    "iqr(info_metric).sum()"
   ]
  },
  {
   "cell_type": "markdown",
   "metadata": {},
   "source": [
    "Once LOF was removing very few outliers and the Std and Iqr methods were removing way too much data (as previously predicted due to data distribution), we decided to use a manual approach and eliminate rows considered outliers through visualizations(boxpolots and hists)."
   ]
  },
  {
   "cell_type": "code",
   "execution_count": 90,
   "metadata": {},
   "outputs": [],
   "source": [
    "info_metric = info_metric.loc[info_metric['LOCALGOV'] < 70]\n",
    "info_metric = info_metric.loc[info_metric['STATEGOV'] < 60]\n",
    "info_metric = info_metric.loc[info_metric['FEDGOV'] < 60]\n",
    "info_metric = info_metric.loc[info_metric['MARR2'] < 80]\n",
    "info_metric = info_metric.loc[info_metric['MARR3'] < 70]\n",
    "info_metric = info_metric.loc[info_metric['HHP1'] < 600]\n",
    "info_metric = info_metric.loc[info_metric['HHP2'] < 600]\n",
    "info_metric = info_metric.loc[info_metric['DW3'] < 80]\n",
    "info_metric = info_metric.loc[info_metric['DW8'] < 90]\n",
    "info_metric = info_metric.loc[info_metric['HHD7'] < 80]\n",
    "info_metric = info_metric.loc[info_metric['HHD8'] < 20]\n",
    "info_metric = info_metric.loc[info_metric['HHD9'] < 80]\n",
    "info_metric = info_metric.loc[info_metric['HHD12'] < 80]\n",
    "info_metric = info_metric.loc[info_metric['ETHC1'] < 60]\n",
    "info_metric = info_metric.loc[info_metric['ETHC4'] < 50]\n",
    "info_metric = info_metric.loc[info_metric['RHP3'] < 50]\n",
    "info_metric = info_metric.loc[info_metric['RHP4'] < 30]\n",
    "info_metric = info_metric.loc[info_metric['HUPA5'] < 90]\n",
    "info_metric = info_metric.loc[info_metric['HUPA7'] < 60]\n",
    "info_metric = info_metric.loc[info_metric['DMA'] > 0]\n",
    "info_metric = info_metric.loc[info_metric['IC5'] < 150000]\n",
    "info_metric = info_metric.loc[info_metric['IC8'] < 80]\n",
    "info_metric = info_metric.loc[info_metric['IC9'] < 80]\n",
    "info_metric = info_metric.loc[info_metric['IC10'] < 80]\n",
    "info_metric = info_metric.loc[info_metric['IC11'] < 80]\n",
    "info_metric = info_metric.loc[info_metric['IC12'] < 40]\n",
    "info_metric = info_metric.loc[info_metric['IC13'] < 40]\n",
    "info_metric = info_metric.loc[info_metric['IC14'] < 80]\n",
    "info_metric = info_metric.loc[info_metric['IC15'] < 90]\n",
    "info_metric = info_metric.loc[info_metric['IC17'] < 90]\n",
    "info_metric = info_metric.loc[info_metric['IC18'] < 90]\n",
    "info_metric = info_metric.loc[info_metric['IC19'] < 90]\n",
    "info_metric = info_metric.loc[info_metric['IC20'] < 90]\n",
    "info_metric = info_metric.loc[info_metric['IC21'] < 45]\n",
    "info_metric = info_metric.loc[info_metric['IC22'] < 60]\n",
    "info_metric = info_metric.loc[info_metric['IC23'] < 80]\n",
    "info_metric = info_metric.loc[info_metric['HHAS2'] < 90]\n",
    "info_metric = info_metric.loc[info_metric['TPE2'] < 90]\n",
    "info_metric = info_metric.loc[info_metric['TPE3'] < 90]\n",
    "info_metric = info_metric.loc[info_metric['TPE4'] < 70]\n",
    "info_metric = info_metric.loc[info_metric['TPE5'] < 50]\n",
    "info_metric = info_metric.loc[info_metric['TPE6'] < 40]\n",
    "info_metric = info_metric.loc[info_metric['TPE7'] < 20]\n",
    "info_metric = info_metric.loc[info_metric['TPE9'] < 80]\n",
    "info_metric = info_metric.loc[info_metric['TPE10'] < 80]\n",
    "info_metric = info_metric.loc[info_metric['TPE12'] < 80]\n",
    "info_metric = info_metric.loc[info_metric['OCC1'] < 80]\n",
    "info_metric = info_metric.loc[info_metric['OCC2'] < 80]\n",
    "info_metric = info_metric.loc[info_metric['OCC3'] < 60]\n",
    "info_metric = info_metric.loc[info_metric['OCC4'] < 80]\n",
    "info_metric = info_metric.loc[info_metric['OCC5'] < 80]\n",
    "info_metric = info_metric.loc[info_metric['OCC6'] < 30]\n",
    "info_metric = info_metric.loc[info_metric['OCC8'] < 80]\n",
    "info_metric = info_metric.loc[info_metric['OCC9'] < 80]\n",
    "info_metric = info_metric.loc[info_metric['OCC10'] < 80]\n",
    "info_metric = info_metric.loc[info_metric['OCC11'] < 80]\n",
    "info_metric = info_metric.loc[info_metric['OCC12'] < 80]\n",
    "info_metric = info_metric.loc[info_metric['OCC13'] < 80]\n",
    "info_metric = info_metric.loc[info_metric['EIC1'] < 90]\n",
    "info_metric = info_metric.loc[info_metric['EIC3'] < 80]\n",
    "info_metric = info_metric.loc[info_metric['EIC4'] < 90]\n",
    "info_metric = info_metric.loc[info_metric['EIC5'] < 90]\n",
    "info_metric = info_metric.loc[info_metric['EIC6'] < 45]\n",
    "info_metric = info_metric.loc[info_metric['EIC7'] < 80]\n",
    "info_metric = info_metric.loc[info_metric['EIC8'] < 80]\n",
    "info_metric = info_metric.loc[info_metric['EIC9'] < 80]\n",
    "info_metric = info_metric.loc[info_metric['EIC10'] < 60]\n",
    "info_metric = info_metric.loc[info_metric['EIC11'] < 80]\n",
    "info_metric = info_metric.loc[info_metric['EIC12'] < 40]\n",
    "info_metric = info_metric.loc[info_metric['EIC13'] < 80]\n",
    "info_metric = info_metric.loc[info_metric['EIC14'] < 80]\n",
    "info_metric = info_metric.loc[info_metric['EIC15'] < 90]\n",
    "info_metric = info_metric.loc[info_metric['EIC16'] < 60]\n",
    "info_metric = info_metric.loc[info_metric['OEDC1'] < 60]\n",
    "info_metric = info_metric.loc[info_metric['OEDC2'] < 60]\n",
    "info_metric = info_metric.loc[info_metric['OEDC3'] < 60]\n",
    "info_metric = info_metric.loc[info_metric['OEDC4'] < 80]\n",
    "info_metric = info_metric.loc[info_metric['OEDC6'] < 80]\n",
    "info_metric = info_metric.loc[info_metric['OEDC7'] < 40]\n",
    "info_metric = info_metric.loc[info_metric['EC2'] < 80]\n",
    "info_metric = info_metric.loc[info_metric['EC3'] < 80]\n",
    "info_metric = info_metric.loc[info_metric['EC4'] < 80]\n",
    "info_metric = info_metric.loc[info_metric['EC5'] < 80]\n",
    "info_metric = info_metric.loc[info_metric['EC7'] < 80]\n",
    "info_metric = info_metric.loc[info_metric['EC8'] < 80]\n",
    "info_metric = info_metric.loc[info_metric['SEC3'] < 15]\n",
    "info_metric = info_metric.loc[info_metric['SEC4'] < 60]\n",
    "info_metric = info_metric.loc[info_metric['AFC3'] < 70]\n",
    "info_metric = info_metric.loc[info_metric['AFC4'] < 80]\n",
    "info_metric = info_metric.loc[info_metric['VC2'] < 90]\n",
    "info_metric = info_metric.loc[info_metric['AFC4'] < 80]\n",
    "info_metric = info_metric.loc[info_metric['ANC1'] < 80]\n",
    "info_metric = info_metric.loc[info_metric['ANC5'] < 40]\n",
    "info_metric = info_metric.loc[info_metric['ANC7'] < 60]\n",
    "info_metric = info_metric.loc[info_metric['ANC8'] < 50]\n",
    "info_metric = info_metric.loc[info_metric['ANC9'] < 60]\n",
    "info_metric = info_metric.loc[info_metric['ANC10'] < 80]\n",
    "info_metric = info_metric.loc[info_metric['ANC12'] < 35]\n",
    "info_metric = info_metric.loc[info_metric['ANC13'] < 20]\n",
    "info_metric = info_metric.loc[info_metric['ANC15'] < 25]\n",
    "info_metric = info_metric.loc[info_metric['LSC3'] < 80]\n",
    "info_metric = info_metric.loc[info_metric['VOC3'] < 90]\n",
    "info_metric = info_metric.loc[info_metric['HC15'] < 15]\n",
    "info_metric = info_metric.loc[info_metric['AC1'] < 60]"
   ]
  },
  {
   "cell_type": "code",
   "execution_count": 91,
   "metadata": {},
   "outputs": [
    {
     "data": {
      "text/html": [
       "<div>\n",
       "<style scoped>\n",
       "    .dataframe tbody tr th:only-of-type {\n",
       "        vertical-align: middle;\n",
       "    }\n",
       "\n",
       "    .dataframe tbody tr th {\n",
       "        vertical-align: top;\n",
       "    }\n",
       "\n",
       "    .dataframe thead th {\n",
       "        text-align: right;\n",
       "    }\n",
       "</style>\n",
       "<table border=\"1\" class=\"dataframe\">\n",
       "  <thead>\n",
       "    <tr style=\"text-align: right;\">\n",
       "      <th></th>\n",
       "      <th>AGE</th>\n",
       "      <th>INCOME</th>\n",
       "      <th>MALEMILI</th>\n",
       "      <th>MALEVET</th>\n",
       "      <th>VIETVETS</th>\n",
       "      <th>WWIIVETS</th>\n",
       "      <th>LOCALGOV</th>\n",
       "      <th>STATEGOV</th>\n",
       "      <th>FEDGOV</th>\n",
       "      <th>AGE902</th>\n",
       "      <th>...</th>\n",
       "      <th>HC15</th>\n",
       "      <th>HC16</th>\n",
       "      <th>HC17</th>\n",
       "      <th>HC18</th>\n",
       "      <th>HC19</th>\n",
       "      <th>HC20</th>\n",
       "      <th>HC21</th>\n",
       "      <th>MHUC1</th>\n",
       "      <th>MHUC2</th>\n",
       "      <th>AC1</th>\n",
       "    </tr>\n",
       "    <tr>\n",
       "      <th>CONTROLN</th>\n",
       "      <th></th>\n",
       "      <th></th>\n",
       "      <th></th>\n",
       "      <th></th>\n",
       "      <th></th>\n",
       "      <th></th>\n",
       "      <th></th>\n",
       "      <th></th>\n",
       "      <th></th>\n",
       "      <th></th>\n",
       "      <th></th>\n",
       "      <th></th>\n",
       "      <th></th>\n",
       "      <th></th>\n",
       "      <th></th>\n",
       "      <th></th>\n",
       "      <th></th>\n",
       "      <th></th>\n",
       "      <th></th>\n",
       "      <th></th>\n",
       "      <th></th>\n",
       "    </tr>\n",
       "  </thead>\n",
       "  <tbody>\n",
       "    <tr>\n",
       "      <th>95515</th>\n",
       "      <td>63.00</td>\n",
       "      <td>3.72</td>\n",
       "      <td>0.0</td>\n",
       "      <td>39.0</td>\n",
       "      <td>34.0</td>\n",
       "      <td>18.0</td>\n",
       "      <td>10.0</td>\n",
       "      <td>2.0</td>\n",
       "      <td>1.0</td>\n",
       "      <td>48.0</td>\n",
       "      <td>...</td>\n",
       "      <td>0.0</td>\n",
       "      <td>0.0</td>\n",
       "      <td>33.0</td>\n",
       "      <td>65.0</td>\n",
       "      <td>40.0</td>\n",
       "      <td>99.0</td>\n",
       "      <td>99.0</td>\n",
       "      <td>6.0</td>\n",
       "      <td>2.0</td>\n",
       "      <td>10.0</td>\n",
       "    </tr>\n",
       "    <tr>\n",
       "      <th>148535</th>\n",
       "      <td>48.00</td>\n",
       "      <td>6.00</td>\n",
       "      <td>0.0</td>\n",
       "      <td>15.0</td>\n",
       "      <td>55.0</td>\n",
       "      <td>11.0</td>\n",
       "      <td>6.0</td>\n",
       "      <td>2.0</td>\n",
       "      <td>1.0</td>\n",
       "      <td>41.0</td>\n",
       "      <td>...</td>\n",
       "      <td>0.0</td>\n",
       "      <td>0.0</td>\n",
       "      <td>99.0</td>\n",
       "      <td>0.0</td>\n",
       "      <td>99.0</td>\n",
       "      <td>99.0</td>\n",
       "      <td>99.0</td>\n",
       "      <td>20.0</td>\n",
       "      <td>4.0</td>\n",
       "      <td>6.0</td>\n",
       "    </tr>\n",
       "    <tr>\n",
       "      <th>15078</th>\n",
       "      <td>60.66</td>\n",
       "      <td>3.00</td>\n",
       "      <td>0.0</td>\n",
       "      <td>20.0</td>\n",
       "      <td>29.0</td>\n",
       "      <td>33.0</td>\n",
       "      <td>6.0</td>\n",
       "      <td>8.0</td>\n",
       "      <td>1.0</td>\n",
       "      <td>43.0</td>\n",
       "      <td>...</td>\n",
       "      <td>0.0</td>\n",
       "      <td>15.0</td>\n",
       "      <td>22.0</td>\n",
       "      <td>77.0</td>\n",
       "      <td>17.0</td>\n",
       "      <td>97.0</td>\n",
       "      <td>92.0</td>\n",
       "      <td>9.0</td>\n",
       "      <td>2.0</td>\n",
       "      <td>6.0</td>\n",
       "    </tr>\n",
       "    <tr>\n",
       "      <th>172556</th>\n",
       "      <td>72.00</td>\n",
       "      <td>1.00</td>\n",
       "      <td>0.0</td>\n",
       "      <td>23.0</td>\n",
       "      <td>14.0</td>\n",
       "      <td>31.0</td>\n",
       "      <td>3.0</td>\n",
       "      <td>0.0</td>\n",
       "      <td>3.0</td>\n",
       "      <td>40.0</td>\n",
       "      <td>...</td>\n",
       "      <td>0.0</td>\n",
       "      <td>16.0</td>\n",
       "      <td>23.0</td>\n",
       "      <td>77.0</td>\n",
       "      <td>22.0</td>\n",
       "      <td>93.0</td>\n",
       "      <td>89.0</td>\n",
       "      <td>16.0</td>\n",
       "      <td>2.0</td>\n",
       "      <td>6.0</td>\n",
       "    </tr>\n",
       "    <tr>\n",
       "      <th>7112</th>\n",
       "      <td>80.00</td>\n",
       "      <td>3.00</td>\n",
       "      <td>1.0</td>\n",
       "      <td>28.0</td>\n",
       "      <td>9.0</td>\n",
       "      <td>53.0</td>\n",
       "      <td>26.0</td>\n",
       "      <td>3.0</td>\n",
       "      <td>2.0</td>\n",
       "      <td>45.0</td>\n",
       "      <td>...</td>\n",
       "      <td>0.0</td>\n",
       "      <td>0.0</td>\n",
       "      <td>99.0</td>\n",
       "      <td>1.0</td>\n",
       "      <td>21.0</td>\n",
       "      <td>99.0</td>\n",
       "      <td>96.0</td>\n",
       "      <td>6.0</td>\n",
       "      <td>2.0</td>\n",
       "      <td>7.0</td>\n",
       "    </tr>\n",
       "  </tbody>\n",
       "</table>\n",
       "<p>5 rows × 269 columns</p>\n",
       "</div>"
      ],
      "text/plain": [
       "            AGE  INCOME  MALEMILI  MALEVET  VIETVETS  WWIIVETS  LOCALGOV  \\\n",
       "CONTROLN                                                                   \n",
       "95515     63.00    3.72       0.0     39.0      34.0      18.0      10.0   \n",
       "148535    48.00    6.00       0.0     15.0      55.0      11.0       6.0   \n",
       "15078     60.66    3.00       0.0     20.0      29.0      33.0       6.0   \n",
       "172556    72.00    1.00       0.0     23.0      14.0      31.0       3.0   \n",
       "7112      80.00    3.00       1.0     28.0       9.0      53.0      26.0   \n",
       "\n",
       "          STATEGOV  FEDGOV  AGE902  ...  HC15  HC16  HC17  HC18  HC19  HC20  \\\n",
       "CONTROLN                            ...                                       \n",
       "95515          2.0     1.0    48.0  ...   0.0   0.0  33.0  65.0  40.0  99.0   \n",
       "148535         2.0     1.0    41.0  ...   0.0   0.0  99.0   0.0  99.0  99.0   \n",
       "15078          8.0     1.0    43.0  ...   0.0  15.0  22.0  77.0  17.0  97.0   \n",
       "172556         0.0     3.0    40.0  ...   0.0  16.0  23.0  77.0  22.0  93.0   \n",
       "7112           3.0     2.0    45.0  ...   0.0   0.0  99.0   1.0  21.0  99.0   \n",
       "\n",
       "          HC21  MHUC1  MHUC2   AC1  \n",
       "CONTROLN                            \n",
       "95515     99.0    6.0    2.0  10.0  \n",
       "148535    99.0   20.0    4.0   6.0  \n",
       "15078     92.0    9.0    2.0   6.0  \n",
       "172556    89.0   16.0    2.0   6.0  \n",
       "7112      96.0    6.0    2.0   7.0  \n",
       "\n",
       "[5 rows x 269 columns]"
      ]
     },
     "execution_count": 91,
     "metadata": {},
     "output_type": "execute_result"
    }
   ],
   "source": [
    "info_metric.head()"
   ]
  },
  {
   "cell_type": "code",
   "execution_count": 92,
   "metadata": {},
   "outputs": [
    {
     "name": "stdout",
     "output_type": "stream",
     "text": [
      "Info: 95412 rows and 320 comlumns\n",
      "Donors: 92827 rows and 76 comlumns\n",
      "IMetric: 94861 rows and 269 comlumns\n",
      "DMetric: 95412 rows and 12 comlumns\n",
      "ICategorical: 95412 rows and 51 comlumns\n",
      "DCategorical: 95412 rows and 64 comlumns\n",
      "Reduced 80 from the original dataset\n"
     ]
    }
   ],
   "source": [
    "sizes()"
   ]
  },
  {
   "cell_type": "code",
   "execution_count": 93,
   "metadata": {},
   "outputs": [],
   "source": [
    "donors = pd.concat([donors_metric,donors_categorical], axis = 1)\n",
    "info = pd.concat([info_metric,info_categorical], axis = 1)"
   ]
  },
  {
   "cell_type": "code",
   "execution_count": 95,
   "metadata": {},
   "outputs": [],
   "source": [
    "info_metric.to_csv('info_metric_pt1.csv')\n",
    "info_categorical.to_csv('info_categorical_pt1.csv')\n",
    "donors_metric.to_csv('donors_metric_pt1.csv')\n",
    "donors_categorical.to_csv('donors_categorical_pt1.csv')"
   ]
  },
  {
   "cell_type": "markdown",
   "metadata": {},
   "source": [
    "<hr>\n",
    "<a class=\"anchor\" id=\"3.\">\n",
    "    \n",
    "#  3. Redudancy\n",
    "    \n",
    "</a>"
   ]
  },
  {
   "cell_type": "markdown",
   "metadata": {},
   "source": [
    "<hr>\n",
    "<a class=\"anchor\" id=\"3.1\">\n",
    "    \n",
    "#  3.1. Donors Metrics\n",
    "    \n",
    "</a> "
   ]
  },
  {
   "cell_type": "code",
   "execution_count": null,
   "metadata": {},
   "outputs": [],
   "source": [
    "info_metric = pd.read_csv(r'OneDrive\\NOVAIMSNOVA IMS\\Master\\1st Year\\1st Semester\\Data Mining\\Group Project\\info_metric_pt1.csv')\n",
    "info_categorical = pd.read_csv(r'OneDrive\\NOVAIMSNOVA IMS\\Master\\1st Year\\1st Semester\\Data Mining\\Group Project\\info_categorical_pt1.csv')\n",
    "donors_metric = pd.read_csv(r'OneDrive\\NOVAIMSNOVA IMS\\Master\\1st Year\\1st Semester\\Data Mining\\Group Project\\donors_metric_pt1.csv')\n",
    "donors_categorical = pd.read_csv(r'OneDrive\\NOVAIMSNOVA IMS\\Master\\1st Year\\1st Semester\\Data Mining\\Group Project\\donors_categorical_pt1.csv')"
   ]
  },
  {
   "cell_type": "code",
   "execution_count": null,
   "metadata": {},
   "outputs": [],
   "source": [
    "test = donors_metric.copy()"
   ]
  },
  {
   "cell_type": "code",
   "execution_count": null,
   "metadata": {},
   "outputs": [],
   "source": [
    "sizes()"
   ]
  },
  {
   "cell_type": "code",
   "execution_count": null,
   "metadata": {},
   "outputs": [],
   "source": [
    "# CORRELATION MATRIX\n",
    "corr = test.corr()\n",
    "upper = np.triu(np.ones_like(corr, dtype=bool))\n",
    "f, ax = plt.subplots(figsize=(11, 9))\n",
    "cmap = sns.diverging_palette(230, 20, as_cmap=True)\n",
    "\n",
    "sns.heatmap(corr, mask=upper, cmap=cmap, vmax=.3, center=0,\n",
    "            square=True, linewidths=.5, cbar_kws={\"shrink\": .5})"
   ]
  },
  {
   "cell_type": "code",
   "execution_count": null,
   "metadata": {
    "scrolled": false
   },
   "outputs": [],
   "source": [
    "#CORRELATION MATRIX\n",
    "\n",
    "fig = plt.figure(figsize=(10, 8))\n",
    "\n",
    "corr = np.round(test.corr(method=\"pearson\"), decimals=2)\n",
    "\n",
    "mask_annot = np.absolute(corr.values) >= 0.5\n",
    "annot = np.where(mask_annot, corr.values, np.full(corr.shape,\"\")) \n",
    "\n",
    "sns.heatmap(data=corr, annot=annot, cmap=sns.diverging_palette(220, 10, as_cmap=True), \n",
    "            fmt='s', vmin=-1, vmax=1, center=0, square=True, linewidths=.5)\n",
    "\n",
    "fig.subplots_adjust(top=0.95)\n",
    "fig.suptitle(\"Correlation Matrix\", fontsize=20)\n",
    "\n",
    "plt.show()"
   ]
  },
  {
   "cell_type": "code",
   "execution_count": null,
   "metadata": {},
   "outputs": [],
   "source": [
    "#GETTING FEATURES THAT HAVE VERY HIGH CORRELATIONS\n",
    "corr_matrix = test.corr().abs()\n",
    "\n",
    "upper = corr_matrix.where(np.triu(np.ones(corr_matrix.shape), k=1).astype(np.bool))\n",
    "\n",
    "to_drop = [column for column in upper.columns if any(upper[column] > 0.85)]"
   ]
  },
  {
   "cell_type": "code",
   "execution_count": null,
   "metadata": {},
   "outputs": [],
   "source": [
    "to_drop"
   ]
  },
  {
   "cell_type": "code",
   "execution_count": null,
   "metadata": {},
   "outputs": [],
   "source": [
    "max_values = upper.describe().loc[['max']]\n",
    "max_values.min().sort_values(ascending = True).head()"
   ]
  },
  {
   "cell_type": "code",
   "execution_count": null,
   "metadata": {},
   "outputs": [],
   "source": [
    "donors_metric.var().sort_values(ascending = True).head()"
   ]
  },
  {
   "cell_type": "markdown",
   "metadata": {},
   "source": [
    "## Analysis\n",
    "\n",
    "- **CARDPROM** and **NUMPROM** are extremely correlated, and **CARDPROM** seems to be the least important one. \n",
    "- **CardGift** and **Ngiftall** are also very alike, and cardgift is the least important/ more specific of the two, we extract more information by keeping the more general variables.\n",
    "- With the same logic we decided to substitute **Min** and **Max** RAMNT by just the **AVGGIFT** \n",
    "- We decided to remove **LASTGIFT** for being too related with **AVGGIFT**, once lastgift was the only gift for many people.\n",
    "- **CARDPM12** has 0,61 of correlation with the **NUMPRM12**, and the number of promotions seems more relevant. Also, it seems to have almost no correlation with any other feature\n",
    "- **NUMPROM** was also removed for having high correlations.\n"
   ]
  },
  {
   "cell_type": "code",
   "execution_count": null,
   "metadata": {},
   "outputs": [],
   "source": [
    "donors.drop(['CARDPROM','CARDGIFT','MINRAMNT','MAXRAMNT','CARDPM12','LASTGIFT','NUMPROM'], axis=1, inplace=True)\n",
    "donors_metric.drop(['CARDPROM','CARDGIFT','MINRAMNT','MAXRAMNT','CARDPM12','LASTGIFT','NUMPROM'], axis=1, inplace=True)"
   ]
  },
  {
   "cell_type": "code",
   "execution_count": null,
   "metadata": {},
   "outputs": [],
   "source": [
    "print('Dropped', 18 - donors_metric.shape[1], 'features' )"
   ]
  },
  {
   "cell_type": "code",
   "execution_count": null,
   "metadata": {},
   "outputs": [],
   "source": [
    "sizes()"
   ]
  },
  {
   "cell_type": "code",
   "execution_count": null,
   "metadata": {},
   "outputs": [],
   "source": [
    "# CORRELATION MATRIX\n",
    "corr = donors_metric.corr()\n",
    "upper = np.triu(np.ones_like(corr, dtype=bool))\n",
    "f, ax = plt.subplots(figsize=(11, 9))\n",
    "cmap = sns.diverging_palette(230, 20, as_cmap=True)\n",
    "\n",
    "sns.heatmap(corr, mask=upper, cmap=cmap, vmax=.3, center=0,\n",
    "            square=True, linewidths=.5, cbar_kws={\"shrink\": .5})"
   ]
  },
  {
   "cell_type": "markdown",
   "metadata": {},
   "source": [
    "<hr>\n",
    "<a class=\"anchor\" id=\"3.2.\">\n",
    "    \n",
    "#  3.2. Donors categorical\n",
    "    \n",
    "</a> "
   ]
  },
  {
   "cell_type": "code",
   "execution_count": null,
   "metadata": {},
   "outputs": [],
   "source": [
    "sizes()"
   ]
  },
  {
   "cell_type": "code",
   "execution_count": null,
   "metadata": {},
   "outputs": [],
   "source": [
    "df_ = donors_categorical.copy()"
   ]
  },
  {
   "cell_type": "code",
   "execution_count": null,
   "metadata": {},
   "outputs": [],
   "source": [
    "# df_ = df_.drop(columns = ['RFA_2','ADATE_18'])"
   ]
  },
  {
   "cell_type": "code",
   "execution_count": null,
   "metadata": {},
   "outputs": [],
   "source": [
    "df_.columns"
   ]
  },
  {
   "cell_type": "code",
   "execution_count": null,
   "metadata": {},
   "outputs": [],
   "source": [
    "# GETTING CORRELATIONS FOR CATEGORICAL VARIABLES\n",
    "\n",
    "def cramers_V(var1,var2) :\n",
    "    crosstab =np.array(pd.crosstab(var1,var2, rownames=None, colnames=None)) # Cross table building\n",
    "    stat = chi2_contingency(crosstab)[0] # Keeping of the test statistic of the Chi2 test\n",
    "    obs = np.sum(crosstab) # Number of observations\n",
    "    mini = min(crosstab.shape)-1 # Take the minimum value between the columns and the rows of the cross table\n",
    "    return (stat/(obs*mini))"
   ]
  },
  {
   "cell_type": "markdown",
   "metadata": {},
   "source": [
    "Based on:\n",
    "- https://towardsdatascience.com/the-search-for-categorical-correlation-a1cf7f1888c9\n",
    "- https://www.kaggle.com/chrisbss1/cramer-s-v-correlation-matrix"
   ]
  },
  {
   "cell_type": "code",
   "execution_count": null,
   "metadata": {},
   "outputs": [],
   "source": [
    "from scipy.stats import chi2_contingency\n",
    "()\n",
    "rows= []\n",
    "\n",
    "for var1 in df_:\n",
    "  col = []\n",
    "  for var2 in df_ :\n",
    "    cramers =cramers_V(df_[var1], df_[var2]) # Cramer's V test\n",
    "    col.append(round(cramers,2)) # Keeping of the rounded value of the Cramer's V  \n",
    "  rows.append(col)\n",
    "  \n",
    "cramers_results = np.array(rows)\n",
    "df_matrix = pd.DataFrame(cramers_results, columns = df_.columns, index =df_.columns)"
   ]
  },
  {
   "cell_type": "code",
   "execution_count": null,
   "metadata": {},
   "outputs": [],
   "source": [
    "def get_redundant_pairs(df):\n",
    "    '''Get diagonal and lower triangular pairs of correlation matrix'''\n",
    "    pairs_to_drop = set()\n",
    "    cols = df.columns\n",
    "    for i in range(0, df.shape[1]):\n",
    "        for j in range(0, i+1):\n",
    "            pairs_to_drop.add((cols[i], cols[j]))\n",
    "    return pairs_to_drop\n",
    "\n",
    "def get_top_abs_correlations(df, n=10):\n",
    "    au_corr = df.abs().unstack()\n",
    "    labels_to_drop = get_redundant_pairs(df_matrix)\n",
    "    au_corr = au_corr.drop(labels=labels_to_drop).sort_values(ascending=False)\n",
    "    return au_corr[0:n]\n",
    "\n",
    "print(\"Top Absolute Correlations\")\n",
    "print(get_top_abs_correlations(df_matrix, 30))"
   ]
  },
  {
   "cell_type": "code",
   "execution_count": null,
   "metadata": {},
   "outputs": [],
   "source": [
    "upper = df_matrix.where(np.triu(np.ones(df_matrix.shape), k=1).astype(np.bool))\n",
    "\n",
    "# we'll drop features that are too much correlated with others, using firstly the threshold of 0.85, and then check manually\n",
    "# those features who have plus 0.75, like we did previously on donors metric\n",
    "to_drop_above = [column for column in upper.columns if any(upper[column] > 0.85)]"
   ]
  },
  {
   "cell_type": "code",
   "execution_count": null,
   "metadata": {
    "scrolled": true
   },
   "outputs": [],
   "source": [
    "to_drop_above"
   ]
  },
  {
   "cell_type": "markdown",
   "metadata": {},
   "source": [
    "All of this makes sense to be removed, once MDMAUD alone gets all the info from MDMAUD_F,MDMAU_A and MAJOR.\n",
    "\n",
    "RFA_2F, RFA_2R and RFA_2A compile information from RFA_2, so they might not be usefull. (And RFA_2R has L for every row).\n",
    "\n",
    "Besides, and following the same logic, we'll drop RFA_3 and RFA_4 for being very correlated to RFA_2, which we decide to keep"
   ]
  },
  {
   "cell_type": "code",
   "execution_count": null,
   "metadata": {},
   "outputs": [],
   "source": [
    "drop_analysis = ['RFA_2R'] #,'RFA_3','RFA_4'"
   ]
  },
  {
   "cell_type": "code",
   "execution_count": null,
   "metadata": {},
   "outputs": [],
   "source": [
    "to_drop_below = upper.describe().loc[['max']]\n",
    "to_drop_below = to_drop_below.min().sort_values(ascending = True)\n",
    "to_drop_below"
   ]
  },
  {
   "cell_type": "markdown",
   "metadata": {},
   "source": [
    "Wont drop any categorical column by its low correlation, once there's no obligation to have any correlation with others variables"
   ]
  },
  {
   "cell_type": "code",
   "execution_count": null,
   "metadata": {},
   "outputs": [],
   "source": [
    "donors_categorical = donors_categorical.drop(columns = to_drop_above)\n",
    "donors_categorical = donors_categorical.drop(columns = drop_analysis)"
   ]
  },
  {
   "cell_type": "code",
   "execution_count": null,
   "metadata": {},
   "outputs": [],
   "source": [
    "print('Dropped', 68 - donors_categorical.shape[1], 'features' )"
   ]
  },
  {
   "cell_type": "code",
   "execution_count": null,
   "metadata": {},
   "outputs": [],
   "source": [
    "sizes()"
   ]
  },
  {
   "cell_type": "markdown",
   "metadata": {},
   "source": [
    "<hr>\n",
    "<a class=\"anchor\" id=\"3.3\">\n",
    "    \n",
    "#  3.3. Info Metric\n",
    "    \n",
    "</a> "
   ]
  },
  {
   "cell_type": "code",
   "execution_count": null,
   "metadata": {},
   "outputs": [],
   "source": [
    "test = info_metric.copy()"
   ]
  },
  {
   "cell_type": "code",
   "execution_count": null,
   "metadata": {},
   "outputs": [],
   "source": [
    "def get_redundant_pairs(df):\n",
    "    '''Get diagonal and lower triangular pairs of correlation matrix'''\n",
    "    pairs_to_drop = set()\n",
    "    cols = df.columns\n",
    "    for i in range(0, df.shape[1]):\n",
    "        for j in range(0, i+1):\n",
    "            pairs_to_drop.add((cols[i], cols[j]))\n",
    "    return pairs_to_drop\n",
    "\n",
    "def get_top_abs_correlations(df, n=10):\n",
    "    au_corr = df.corr().abs().unstack()\n",
    "    labels_to_drop = get_redundant_pairs(test)\n",
    "    au_corr = au_corr.drop(labels=labels_to_drop).sort_values(ascending=False)\n",
    "    return au_corr[0:n]\n",
    "\n",
    "print(\"Top Absolute Correlations\")\n",
    "print(get_top_abs_correlations(test, 20))"
   ]
  },
  {
   "cell_type": "code",
   "execution_count": null,
   "metadata": {},
   "outputs": [],
   "source": [
    "corr_matrix = test.corr().abs()\n",
    "upper = corr_matrix.where(np.triu(np.ones(corr_matrix.shape), k=1).astype(np.bool))\n",
    "\n",
    "to_drop_above = [column for column in upper.columns if any(upper[column] > 0.85)] #get the list above\n",
    "to_drop_below = upper.describe().loc[['max']]\n",
    "to_drop_below = to_drop_below.min().sort_values(ascending = True)"
   ]
  },
  {
   "cell_type": "markdown",
   "metadata": {},
   "source": [
    "We'll drop features that are way too correlated with each other (>85%), once they are repeating information stated by other features, as one can conclude by a quick analysis of the metadata.\n",
    "\n",
    "Some examples:\n",
    "- HHAGE1 Percent Households w/ Person 65+\n",
    "\n",
    "- HHAGE2 Percent Households w/ Person 65+ Living Alone\n",
    "\n",
    "- HHAGE3 Percent Households Headed by an Elderly Person Age 65+ \n",
    "\n",
    "\n",
    "- HV1                         Median Home Value in hundreds\n",
    "\n",
    "- HV2                         Average Home Value in hundreds\n",
    "\n",
    "- HV3                         Median Contract Rent in hundreds\n",
    "\n",
    "- HV4                         Average Contract Rent in hundreds\n",
    "\n",
    "\n",
    "- LFC3                        Percent Females in Labor Force\n",
    "- LFC4                        Percent Adult Males Employed\n",
    "- LFC5                        Percent Adult Females Employed"
   ]
  },
  {
   "cell_type": "code",
   "execution_count": null,
   "metadata": {
    "scrolled": false
   },
   "outputs": [],
   "source": [
    "to_drop_above"
   ]
  },
  {
   "cell_type": "code",
   "execution_count": null,
   "metadata": {},
   "outputs": [],
   "source": [
    "test = test.drop(columns = to_drop_above)"
   ]
  },
  {
   "cell_type": "code",
   "execution_count": null,
   "metadata": {},
   "outputs": [],
   "source": [
    "get_top_abs_correlations(test, 20)"
   ]
  },
  {
   "cell_type": "markdown",
   "metadata": {},
   "source": [
    "Again, an exploration of metadata alongside with some still high correlations, we can try to drop some more features, so the clustering process becomes more handy.\n",
    "\n",
    "\n",
    "- HC20                        Percent Housing Units w/ Complete Plumbing Facilities\n",
    "- HC21                        Percent Housing Units w/ Telephones\n",
    "\n",
    "\n",
    "- HHD6                        Percent Persons in Non-Family Household\n",
    "- HHN1                        Percent 1 Person Households\n",
    "\n",
    "\n",
    "- VC1                         Percent Vietnam Veterans Age 16+\n",
    "- VIETVETS                    % Vietnam Vets\n",
    "\n",
    "\n",
    "- DW1                         Percent Single Unit Structure\n",
    "- DW4                         Percent Multi (2+) Unit Structures\n",
    "\n"
   ]
  },
  {
   "cell_type": "code",
   "execution_count": null,
   "metadata": {},
   "outputs": [],
   "source": [
    "#STILL HIGH CORRELATIONS BETWEEN FEATURES THAT ARE REDUDANT\n",
    "still_high = ['HC20','HHD6','ETHC6','AFC3','CHIL2','HC2','OEDC1','ETHC2','EC8','VOC2','DW4',\n",
    "              'VC3','HC20','HHD10','HU1','HC19','DW1','VC1']"
   ]
  },
  {
   "cell_type": "code",
   "execution_count": null,
   "metadata": {},
   "outputs": [],
   "source": [
    "test = test.drop(columns = still_high)"
   ]
  },
  {
   "cell_type": "markdown",
   "metadata": {},
   "source": [
    "We'll now drop the columns below 5% correlation with any other feature, once there's a very high probability they wont make any difference on the further clusters."
   ]
  },
  {
   "cell_type": "code",
   "execution_count": null,
   "metadata": {},
   "outputs": [],
   "source": [
    "to_drop_below"
   ]
  },
  {
   "cell_type": "code",
   "execution_count": null,
   "metadata": {},
   "outputs": [],
   "source": [
    "to_drop_below = ['MALEMILI']\n",
    "test = test.drop(columns = to_drop_below)"
   ]
  },
  {
   "cell_type": "markdown",
   "metadata": {},
   "source": [
    "It is now important that we reduce the features accordingally to their lack of variance, which means they wont play an important role on clustering data."
   ]
  },
  {
   "cell_type": "code",
   "execution_count": null,
   "metadata": {
    "scrolled": false
   },
   "outputs": [],
   "source": [
    "test.var().sort_values(ascending = True).head(30)"
   ]
  },
  {
   "cell_type": "code",
   "execution_count": null,
   "metadata": {},
   "outputs": [],
   "source": [
    "low_variance = ['ANC11','EIC12','ANC5','ANC15','TPE6','HC15','ANC1','OEDC7','OCC6',\n",
    "                'ANC9','EIC2','ANC6','TPE7','RHP4','ANC3','ANC14','ANC12','TPE5','ANC13','AFC6',\n",
    "                'ANC8','EIC6','HHD8']\n",
    "#We decided to delete this data, once, at the best case (EIC12), they had 82% of the data compiled only in 7% of the columns' range."
   ]
  },
  {
   "cell_type": "code",
   "execution_count": null,
   "metadata": {},
   "outputs": [],
   "source": [
    "test = test.drop(columns = low_variance)"
   ]
  },
  {
   "cell_type": "code",
   "execution_count": null,
   "metadata": {
    "scrolled": false
   },
   "outputs": [],
   "source": [
    "print('Dropped', 294 - test.shape[1], 'features' )"
   ]
  },
  {
   "cell_type": "code",
   "execution_count": null,
   "metadata": {},
   "outputs": [],
   "source": [
    "info_metric = test.copy()"
   ]
  },
  {
   "cell_type": "code",
   "execution_count": null,
   "metadata": {
    "scrolled": false
   },
   "outputs": [],
   "source": [
    "sizes()"
   ]
  },
  {
   "cell_type": "markdown",
   "metadata": {},
   "source": [
    "<hr>\n",
    "<a class=\"anchor\" id=\"3.1.4\">\n",
    "    \n",
    "#  3.4. Info categorical\n",
    "    \n",
    "</a> "
   ]
  },
  {
   "cell_type": "code",
   "execution_count": null,
   "metadata": {},
   "outputs": [],
   "source": [
    "df_ = info_categorical.copy()"
   ]
  },
  {
   "cell_type": "code",
   "execution_count": null,
   "metadata": {
    "scrolled": false
   },
   "outputs": [],
   "source": [
    "rows= []\n",
    "for var1 in df_:\n",
    "  col = []\n",
    "  for var2 in df_ :\n",
    "    cramers =cramers_V(df_[var1], df_[var2]) # Cramer's V test\n",
    "    col.append(round(cramers,2)) # Keeping of the rounded value of the Cramer's V  \n",
    "  rows.append(col)\n",
    "\n",
    "cramers_results = np.array(rows)\n",
    "df_matrix = pd.DataFrame(cramers_results, columns = df_.columns, index = df_.columns)"
   ]
  },
  {
   "cell_type": "code",
   "execution_count": null,
   "metadata": {},
   "outputs": [],
   "source": [
    "def get_redundant_pairs(df):\n",
    "    '''Get diagonal and lower triangular pairs of correlation matrix'''\n",
    "    pairs_to_drop = set()\n",
    "    cols = df.columns\n",
    "    for i in range(0, df.shape[1]):\n",
    "        for j in range(0, i+1):\n",
    "            pairs_to_drop.add((cols[i], cols[j]))\n",
    "    return pairs_to_drop\n",
    "\n",
    "def get_top_abs_correlations(df, n=20):\n",
    "    au_corr = df.corr().abs().unstack()\n",
    "    labels_to_drop = get_redundant_pairs(df)\n",
    "    au_corr = au_corr.drop(labels=labels_to_drop).sort_values(ascending=False)\n",
    "\n",
    "    return au_corr[0:20]\n",
    "\n",
    "print(\"Top Absolute Correlations\")\n",
    "print(get_top_abs_correlations(df_matrix, 10).sort_values(ascending = False).head(10))"
   ]
  },
  {
   "cell_type": "code",
   "execution_count": null,
   "metadata": {},
   "outputs": [],
   "source": [
    "import numpy as np\n",
    "\n",
    "test = df_matrix.copy()\n",
    "corr_matrix = test\n",
    "\n",
    "upper = corr_matrix.where(np.triu(np.ones(corr_matrix.shape), k=1).astype(np.bool))\n",
    "\n",
    "to_drop_above = [column for column in upper.columns if any(upper[column] > 0.80)]\n",
    "to_drop_below = upper.describe().loc[['max']]\n",
    "to_drop_below = to_drop_below.min().sort_values(ascending = True)"
   ]
  },
  {
   "cell_type": "code",
   "execution_count": null,
   "metadata": {},
   "outputs": [],
   "source": [
    "to_drop_above"
   ]
  },
  {
   "cell_type": "code",
   "execution_count": null,
   "metadata": {
    "scrolled": true
   },
   "outputs": [],
   "source": [
    "to_drop_below.head()"
   ]
  },
  {
   "cell_type": "code",
   "execution_count": null,
   "metadata": {},
   "outputs": [],
   "source": [
    "to_drop_below = ['STATE']"
   ]
  },
  {
   "cell_type": "markdown",
   "metadata": {},
   "source": [
    "Once, we're dealing with categorical variables, it's normal not to find very high correlations and, therefore, we'll one remove ZIP and Geocode, which are very well correlated with ZIP. On the bottom, state has no correlation with any other feature, which might make some sense. Though, we'll remove it and stick to ZIP as the geographic feature."
   ]
  },
  {
   "cell_type": "code",
   "execution_count": null,
   "metadata": {},
   "outputs": [],
   "source": [
    "info_categorical = info_categorical.drop(columns = to_drop_above)\n",
    "info_categorical = info_categorical.drop(columns = to_drop_below)"
   ]
  },
  {
   "cell_type": "markdown",
   "metadata": {},
   "source": [
    "**----------------------------------------------------------------------------------------------------------------------------------------------------------------------------------------------------**"
   ]
  },
  {
   "cell_type": "markdown",
   "metadata": {},
   "source": [
    "<hr>\n",
    "<a class=\"anchor\" id=\"4.\">\n",
    "    \n",
    "# 4. Final Adjustments\n",
    "    \n",
    "</a>"
   ]
  },
  {
   "cell_type": "markdown",
   "metadata": {},
   "source": [
    "Given the upper methodology, after several processes of trial and error, the following preprocessing steps were retained, as they provided the best results. These are a simplified and slightly modified version of the upper complete preprocesing analysis.The below analysis is simpler and less scientifically in-depth, as it contains solely the most necessary steps for the final clustering output. This procedure allowed us, also, to quickly change the core-preprocessing steps without the need of running the complete preprocessing analysis. The main difference below is that the number of variables erased was decreased, as certain variables were observed to be important during the clustering process that had been erased previously through high/low correlation analysis. The normalization procedure was, thus, applied to different variables and the outliers received no treatment. Feature Engineering was kept, as it was defined as optimal in the clustering process. \n",
    "Note: Using a MinMax Scaler provided worse visualizations in the cluster profiling, given that the scale of the data would be all between 0 and 1. Nonetheless, the Standard Scaler, in the end result, gave worse Final Merged Cluster results, with a very large % of data belonging to just 1 cluster. The inertia plot for the K-Means, using the Standard Scaler, suggested the usage of just 2 clusters to define all data, with one containing the large majority of data points, so MinMax was kept."
   ]
  },
  {
   "cell_type": "code",
   "execution_count": null,
   "metadata": {},
   "outputs": [],
   "source": [
    "df = pd.read_csv('donors.csv', index_col=0)\n",
    "donors= df.copy()\n",
    "donors_sup=donors.copy()\n",
    "info= donors_sup.copy()\n",
    "\n",
    "cols_neigh = list(range(72,358)) \n",
    "info= info[info.columns[cols_neigh]]\n",
    "info_sup= donors_sup[['DOB','TCODE','STATE','ZIP','INCOME','WEALTH1','DOMAIN','MAILCODE','HOMEOWNR','CHILD03','CHILD07','CHILD12','CHILD18','NUMCHLD','GENDER', 'MBCRAFT','MBGARDEN','MBBOOKS','MBCOLECT','MAGFAML',                     \n",
    "'MAGFEM','MAGMALE','PUBGARDN','PUBCULIN','PUBHLTH','PUBDOITY','PUBNEWFN','PUBPHOTO', 'PUBOPP','MALEMILI','MALEVET','VIETVETS',                    \n",
    "'WWIIVETS','LOCALGOV','STATEGOV','FEDGOV','WEALTH2','COLLECT1','VETERANS','BIBLE','CATLG','HOMEE','PETS','CDPLAY','STEREO',                      \n",
    "'PCOWNERS','PHOTO','CRAFTS','FISHER','GARDENIN','BOATS','WALKER','KIDSTUFF','CARDS','PLATES','LIFESRC','HPHONE_D','GEOCODE2']]\n",
    "\n",
    "info= info_sup.merge(info, left_index= True, right_index= True)\n",
    "donors_col= donors.columns.drop(info.columns).tolist()\n",
    "donors= donors[donors_col]\n",
    "info['CONTROLN']= donors_sup['CONTROLN']\n",
    "donors.set_index('CONTROLN',inplace=True)\n",
    "info.set_index('CONTROLN',inplace=True)"
   ]
  },
  {
   "cell_type": "code",
   "execution_count": null,
   "metadata": {},
   "outputs": [],
   "source": [
    "# If it has more than 70K NaN values, the columns will be dropped. This implies that the column has more than 73% of \n",
    "# missing values,instead of removing variables for above 40%, allowing us to retain more information.\n",
    "donors.drop(['RDATE_3','RDATE_4','RDATE_5','RDATE_6', 'RDATE_7','RDATE_8', 'RDATE_9','RDATE_10','RDATE_11','RDATE_12',\n",
    "             'RDATE_13','RDATE_14','RDATE_15','RDATE_16','RDATE_18','RDATE_22','RAMNT_8','RAMNT_12','RAMNT_14','RAMNT_16',\n",
    "             'RAMNT_18','RAMNT_22',\n",
    "             'RDATE_17','RDATE_19','RDATE_20','RDATE_21','RDATE_23','RDATE_24','RAMNT_3','RAMNT_4','RAMNT_5','RAMNT_6',\n",
    "             'RAMNT_7','RAMNT_9','RAMNT_10','RAMNT_11','RAMNT_13','RAMNT_15','RAMNT_17','RAMNT_19','RAMNT_20','RAMNT_21',\n",
    "             'RAMNT_23','RAMNT_24','PVASTATE'], axis=1, inplace=True)"
   ]
  },
  {
   "cell_type": "markdown",
   "metadata": {},
   "source": [
    "**Separating the metric and non_metric variables from each dataframe**"
   ]
  },
  {
   "cell_type": "code",
   "execution_count": null,
   "metadata": {},
   "outputs": [],
   "source": [
    "donors_metric= ['HIT','CARDPROM','NUMPROM','CARDPM12','NUMPRM12','RAMNTALL','NGIFTALL','CARDGIFT','MINRAMNT',\n",
    "                'MAXRAMNT','LASTGIFT','TIMELAG','AVGGIFT']\n",
    "donors_categorical= donors.columns.drop(donors_metric).to_list()\n",
    "info_metric= ['INCOME','MALEMILI','MALEVET','VIETVETS','WWIIVETS','LOCALGOV','STATEGOV','FEDGOV',\n",
    "             'POP901', 'POP902', 'POP903', 'POP90C1', 'POP90C2', 'POP90C3', 'POP90C4', 'POP90C5', 'ETH1', \n",
    "              'ETH2', 'ETH3', 'ETH4', 'ETH5', 'ETH6', 'ETH7', 'ETH8', 'ETH9', 'ETH10', 'ETH11', 'ETH12', 'ETH13', \n",
    "              'ETH14', 'ETH15', 'ETH16', 'AGE901', 'AGE902', 'AGE903', 'AGE904', 'AGE905', 'AGE906', 'AGE907',\n",
    "              'CHIL1', 'CHIL2', 'CHIL3', 'AGEC1', 'AGEC2', 'AGEC3', 'AGEC4', 'AGEC5', 'AGEC6', 'AGEC7', 'CHILC1',\n",
    "              'CHILC2', 'CHILC3', 'CHILC4', 'CHILC5', 'HHAGE1', 'HHAGE2', 'HHAGE3', 'HHN1', 'HHN2', 'HHN3', 'HHN4', \n",
    "              'HHN5', 'HHN6', 'MARR1', 'MARR2', 'MARR3', 'MARR4', 'HHP1', 'HHP2', 'DW1', 'DW2', 'DW3', 'DW4', 'DW5',\n",
    "              'DW6', 'DW7', 'DW8', 'DW9', 'HV1', 'HV2', 'HV3', 'HV4', 'HU1', 'HU2', 'HU3', 'HU4', 'HU5', 'HHD1', 'HHD2',\n",
    "              'HHD3', 'HHD4', 'HHD5', 'HHD6', 'HHD7', 'HHD8', 'HHD9', 'HHD10', 'HHD11', 'HHD12', 'ETHC1', 'ETHC2', 'ETHC3',\n",
    "              'ETHC4', 'ETHC5', 'ETHC6', 'HVP1', 'HVP2', 'HVP3', 'HVP4', 'HVP5', 'HVP6', 'HUR1', 'HUR2', 'RHP1', 'RHP2', \n",
    "              'RHP3', 'RHP4', 'HUPA1', 'HUPA2', 'HUPA3', 'HUPA4', 'HUPA5', 'HUPA6', 'HUPA7', 'RP1', 'RP2', 'RP3', 'RP4',\n",
    "              'MSA', 'ADI', 'DMA', 'IC1', 'IC2', 'IC3', 'IC4', 'IC5', 'IC6', 'IC7', 'IC8', 'IC9', 'IC10', 'IC11', 'IC12',\n",
    "              'IC13', 'IC14', 'IC15', 'IC16', 'IC17', 'IC18', 'IC19', 'IC20', 'IC21', 'IC22', 'IC23', 'HHAS1', 'HHAS2',\n",
    "              'HHAS3', 'HHAS4', 'MC1', 'MC2', 'MC3', 'TPE1', 'TPE2', 'TPE3', 'TPE4', 'TPE5', 'TPE6', 'TPE7', 'TPE8', \n",
    "              'TPE9', 'PEC1', 'PEC2', 'TPE10', 'TPE11', 'TPE12', 'TPE13', 'LFC1', 'LFC2', 'LFC3', 'LFC4', 'LFC5', 'LFC6',\n",
    "              'LFC7', 'LFC8', 'LFC9', 'LFC10', 'OCC1', 'OCC2', 'OCC3', 'OCC4', 'OCC5', 'OCC6', 'OCC7', 'OCC8', 'OCC9',\n",
    "              'OCC10', 'OCC11', 'OCC12', 'OCC13', 'EIC1', 'EIC2', 'EIC3', 'EIC4', 'EIC5', 'EIC6', 'EIC7', 'EIC8', 'EIC9',\n",
    "              'EIC10', 'EIC11', 'EIC12', 'EIC13', 'EIC14', 'EIC15', 'EIC16', 'OEDC1', 'OEDC2', 'OEDC3', 'OEDC4', 'OEDC5',\n",
    "              'OEDC6', 'OEDC7', 'EC1', 'EC2', 'EC3', 'EC4', 'EC5', 'EC6', 'EC7', 'EC8', 'SEC1', 'SEC2', 'SEC3', 'SEC4', \n",
    "              'SEC5', 'AFC1', 'AFC2', 'AFC3', 'AFC4', 'AFC5', 'AFC6', 'VC1', 'VC2', 'VC3', 'VC4', 'ANC1', 'ANC2', 'ANC3',\n",
    "              'ANC4', 'ANC5', 'ANC6', 'ANC7', 'ANC8', 'ANC9', 'ANC10', 'ANC11', 'ANC12', 'ANC13', 'ANC14', 'ANC15', 'POBC1',\n",
    "              'POBC2', 'LSC1', 'LSC2', 'LSC3', 'LSC4', 'VOC1', 'VOC2', 'VOC3', 'HC1', 'HC2', 'HC3', 'HC4', 'HC5', 'HC6',\n",
    "              'HC7', 'HC8', 'HC9', 'HC10', 'HC11', 'HC12', 'HC13', 'HC14', 'HC15', 'HC16', 'HC17', 'HC18', 'HC19', 'HC20',\n",
    "              'HC21', 'MHUC1', 'MHUC2', 'AC1', 'AC2','MBCRAFT','MBGARDEN','MBBOOKS','MBCOLECT','MAGFAML','MAGFEM','MAGMALE',\n",
    "              'PUBGARDN','PUBCULIN','PUBHLTH','PUBDOITY','PUBNEWFN','PUBPHOTO','PUBOPP']\n",
    "info_categorical= info.columns.drop(info_metric).to_list()"
   ]
  },
  {
   "cell_type": "markdown",
   "metadata": {},
   "source": [
    "**Donors Missing Values Imputation**- Better results were met with the mode imputation. NEXTDATE and TIMELAG were treated the same way as before, for precisely the reasons specified."
   ]
  },
  {
   "cell_type": "code",
   "execution_count": null,
   "metadata": {},
   "outputs": [],
   "source": [
    "donors_categorical.remove('NEXTDATE')\n",
    "modes= donors[donors_categorical].mode().loc[0]\n",
    "donors.fillna(modes,inplace=True)\n",
    "donors_categorical.append('NEXTDATE')\n",
    "donors['TIMELAG'].fillna(0,inplace=True)"
   ]
  },
  {
   "cell_type": "markdown",
   "metadata": {},
   "source": [
    "**Feature Engineering**"
   ]
  },
  {
   "cell_type": "code",
   "execution_count": null,
   "metadata": {},
   "outputs": [],
   "source": [
    "info.drop(['NUMCHLD','TCODE','CHILD07','CHILD03','CHILD12','CHILD18'], axis=1, inplace=True)\n",
    "info_categorical.remove('TCODE')\n",
    "info_categorical.remove('CHILD07')\n",
    "info_categorical.remove('CHILD03')\n",
    "info_categorical.remove('CHILD12')\n",
    "info_categorical.remove('CHILD18')"
   ]
  },
  {
   "cell_type": "code",
   "execution_count": null,
   "metadata": {},
   "outputs": [],
   "source": [
    "info[\"Year\"], info['erase']= info['DOB'].str.split(\"-\",1).str\n",
    "donors[\"Year First\"], donors['erase']= donors['ODATEDW'].str.split(\"-\",1).str\n",
    "info['Age']= 2020- (info['Year'].astype(float))\n",
    "donors['OriginDate']= 2020- (donors['Year First'].astype(float))\n",
    "info.drop(['DOB','erase','Year'], axis=1, inplace=True)\n",
    "donors.drop(['Year First', 'erase','ODATEDW'], axis=1, inplace=True)\n",
    "donors_categorical.remove('ODATEDW')\n",
    "\n",
    "def get_data(df):\n",
    "    for row in df.filter(regex='DATE').columns:\n",
    "        df[row] = df[row].apply(str)\n",
    "        df[row] = df[row].str[:4]\n",
    "        df[row]= df[row].str.replace(\" \",\"\")\n",
    "        df[row]= 2020 - (df[row].astype(float))\n",
    "                                        \n",
    "get_data(donors)"
   ]
  },
  {
   "cell_type": "markdown",
   "metadata": {},
   "source": [
    "**Info Missing Values and Adjustements**"
   ]
  },
  {
   "cell_type": "code",
   "execution_count": null,
   "metadata": {},
   "outputs": [],
   "source": [
    "info_metric.append('Age')\n",
    "median_values= info[info_metric].median()\n",
    "info.fillna(median_values, inplace=True)\n",
    "info_categorical.remove('NUMCHLD')\n",
    "info_categorical.remove('DOB')\n",
    "mode_values= info[info_categorical].mode().loc[0]\n",
    "info.fillna(mode_values,inplace=True)"
   ]
  },
  {
   "cell_type": "code",
   "execution_count": null,
   "metadata": {},
   "outputs": [],
   "source": [
    "pd.reset_option('all')\n",
    "donors['NEXTDATE'].fillna(0,inplace=True)\n",
    "donors['SOLP3']=donors['SOLP3'].replace(\" \", \"010\")\n",
    "donors['SOLIH']=donors['SOLIH'].replace(\" \", \"010\") \n",
    "donors['NOEXCH']=donors['NOEXCH'].replace(\" \",\"Exchange\")\n",
    "donors['NOEXCH']=donors['NOEXCH'].replace(\"X\",\"No Exchange\")\n",
    "donors['NOEXCH']=donors['NOEXCH'].replace(\"1\",\"Exchange\")\n",
    "donors['NOEXCH']=donors['NOEXCH'].replace(\"0\",\"No Exchange\")\n",
    "donors['NOEXCH']=donors['NOEXCH'].replace(1,\"Exchange\")\n",
    "donors['NOEXCH']=donors['NOEXCH'].replace(0,\"No Exchange\")\n",
    "donors['RECINHSE']=donors['RECINHSE'].replace(\" \", \"Not In House\")\n",
    "donors['RECINHSE']=donors['RECINHSE'].replace(\"X\", \"Donation to In House\")\n",
    "donors['RECP3']=donors['RECP3'].replace(\" \", \"Not P3\")\n",
    "donors['RECP3']=donors['RECP3'].replace(\"X\", \"Donation to P3\")\n",
    "donors['RECPGVG']=donors['RECPGVG'].replace(\" \", \"Not Planned Giving\")\n",
    "donors['RECPGVG']=donors['RECPGVG'].replace(\"X\", \"Planned Giving\")\n",
    "donors['RECSWEEP']=donors['RECSWEEP'].replace(\" \", \"Not Sweepstakes\")\n",
    "donors['RECSWEEP']=donors['RECSWEEP'].replace(\"X\", \"Sweepstakes\")\n",
    "donors['PEPSTRFL']=donors['PEPSTRFL'].replace(\" \", \"Not PEP STAR\")\n",
    "donors['PEPSTRFL']=donors['PEPSTRFL'].replace(\"X\", \"PEP STAR\")\n",
    "donors['DATASRCE']= donors['DATASRCE'].replace(\"1\",\"MetroMail\")\n",
    "donors['DATASRCE']= donors['DATASRCE'].replace(\"2\",\"Polk\")\n",
    "donors['DATASRCE']= donors['DATASRCE'].replace(\"3\",\"Metro+Polk\")\n",
    "donors['DATASRCE']= donors['DATASRCE'].replace(\" \",np.nan)\n",
    "source_mode= donors['DATASRCE'].mode().loc[0]\n",
    "donors['DATASRCE'].fillna(source_mode, inplace=True)\n",
    "info['MAILCODE']= info['MAILCODE'].replace(\" \",\"Address Ok\")\n",
    "info['MAILCODE']= info['MAILCODE'].replace(\"B\",\"Address Bad\")\n",
    "info['HOMEOWNR']= info['HOMEOWNR'].replace(\" \",\"Unknown\")\n",
    "info['HOMEOWNR']= info['HOMEOWNR'].replace(\"U\",\"Unknown\")\n",
    "info['HOMEOWNR']= info['HOMEOWNR'].replace(\"H\",\"Home_Owner\")\n",
    "info['GENDER']= info['GENDER'].replace(\" \",\"Unknown Gender\")\n",
    "info['GENDER']= info['GENDER'].replace(\"M\",\"Male\")\n",
    "info['GENDER']= info['GENDER'].replace(\"F\",\"Female\")\n",
    "info['GENDER']= info['GENDER'].replace(\"U\",\"Unknown Gender\")\n",
    "info['GENDER']= info['GENDER'].replace(\"J\",\"Unknown Gender\")\n",
    "info['GENDER']= info['GENDER'].replace(\"C\",\"Unknown Gender\")\n",
    "info['GENDER']= info['GENDER'].replace(\"A\",\"Unknown Gender\")\n",
    "info['COLLECT1']= info['COLLECT1'].replace(\" \",\"N\")\n",
    "info['VETERANS']= info['VETERANS'].replace(\" \",\"N\")\n",
    "info['BIBLE']= info['BIBLE'].replace(\" \",\"N\")\n",
    "info['CATLG']= info['CATLG'].replace(\" \",\"N\")\n",
    "info['HOMEE']= info['HOMEE'].replace(\" \",\"N\")\n",
    "info['PETS']= info['PETS'].replace(\" \",\"N\")\n",
    "info['CDPLAY']= info['CDPLAY'].replace(\" \",\"N\")\n",
    "info['STEREO']= info['STEREO'].replace(\" \",\"N\")\n",
    "info['PCOWNERS']= info['PCOWNERS'].replace(\" \",\"N\")\n",
    "info['CRAFTS']= info['CRAFTS'].replace(\" \",\"N\")\n",
    "info['FISHER']= info['FISHER'].replace(\" \",\"N\")\n",
    "info['GARDENIN']= info['GARDENIN'].replace(\" \",\"N\")\n",
    "info['BOATS']= info['BOATS'].replace(\" \",\"N\")\n",
    "info['WALKER']= info['WALKER'].replace(\" \",\"N\")\n",
    "info['KIDSTUFF']= info['KIDSTUFF'].replace(\" \",\"N\")\n",
    "info['CARDS']= info['CARDS'].replace(\" \",\"N\")\n",
    "info['PLATES']= info['PLATES'].replace(\" \",\"N\")"
   ]
  },
  {
   "cell_type": "markdown",
   "metadata": {},
   "source": [
    "**Correlations Donors**"
   ]
  },
  {
   "cell_type": "code",
   "execution_count": null,
   "metadata": {},
   "outputs": [],
   "source": [
    "donors.drop(['CARDPROM','CARDGIFT','MINRAMNT','MAXRAMNT','CARDPM12','LASTGIFT','NUMPROM'], axis=1, inplace=True)\n",
    "donors_metric.remove('CARDPROM')\n",
    "donors_metric.remove('CARDGIFT')\n",
    "donors_metric.remove('MINRAMNT')\n",
    "donors_metric.remove('MAXRAMNT')\n",
    "donors_metric.remove('CARDPM12')\n",
    "donors_metric.remove('LASTGIFT')\n",
    "donors_metric.remove('NUMPROM')\n",
    "\n",
    "donors.drop('MDMAUD', axis=1, inplace=True)\n",
    "donors_categorical.remove('MDMAUD')\n",
    "donors.drop('RFA_2', axis=1, inplace=True)\n",
    "donors_categorical.remove('RFA_2')"
   ]
  },
  {
   "cell_type": "markdown",
   "metadata": {},
   "source": [
    "**Correlations Info**"
   ]
  },
  {
   "cell_type": "code",
   "execution_count": null,
   "metadata": {},
   "outputs": [],
   "source": [
    "corr_matrix = info[info_metric].corr().abs()\n",
    "upper = corr_matrix.where(np.triu(np.ones(corr_matrix.shape), k=1).astype(np.bool))\n",
    "to_drop = [column for column in upper.columns if any(upper[column] > 0.85)]\n",
    "info.drop(to_drop, axis=1, inplace=True)\n",
    "\n",
    "def remove(to_drop):\n",
    "    for cols in to_drop:\n",
    "        info_metric.remove(cols)\n",
    "remove(to_drop)\n",
    "print('Dropped',344 - info.shape[1],'columns')"
   ]
  },
  {
   "cell_type": "markdown",
   "metadata": {},
   "source": [
    "**Normalization**"
   ]
  },
  {
   "cell_type": "code",
   "execution_count": null,
   "metadata": {},
   "outputs": [],
   "source": [
    "def listadd(df):\n",
    "    for row in df.filter(regex='DATE').columns:\n",
    "        donors_metric.append(row)\n",
    "        donors_categorical.remove(row)\n",
    "listadd(donors)\n",
    "\n",
    "donors_norm= donors.copy()\n",
    "info_norm= info.copy()\n",
    "\n",
    "scaler= MinMaxScaler() \n",
    "scaled_feat= scaler.fit_transform(donors_norm[donors_metric])\n",
    "donors_norm[donors_metric]= scaled_feat\n",
    "\n",
    "scaler2= MinMaxScaler()\n",
    "scaled_feat2= scaler2.fit_transform(info_norm[info_metric])\n",
    "info_norm[info_metric]= scaled_feat2\n",
    "\n",
    "donors= donors_norm.copy()\n",
    "info= info_norm.copy()"
   ]
  },
  {
   "cell_type": "markdown",
   "metadata": {},
   "source": [
    "**Exporting the Datasets to be utilized**"
   ]
  },
  {
   "cell_type": "code",
   "execution_count": null,
   "metadata": {},
   "outputs": [],
   "source": [
    "donors.to_csv('donors preprocessed_final')\n",
    "info.to_csv('info preprocessed_final')"
   ]
  },
  {
   "cell_type": "code",
   "execution_count": null,
   "metadata": {},
   "outputs": [],
   "source": []
  },
  {
   "cell_type": "code",
   "execution_count": null,
   "metadata": {},
   "outputs": [],
   "source": []
  }
 ],
 "metadata": {
  "kernelspec": {
   "display_name": "Python 3",
   "language": "python",
   "name": "python3"
  },
  "language_info": {
   "codemirror_mode": {
    "name": "ipython",
    "version": 3
   },
   "file_extension": ".py",
   "mimetype": "text/x-python",
   "name": "python",
   "nbconvert_exporter": "python",
   "pygments_lexer": "ipython3",
   "version": "3.8.5"
  }
 },
 "nbformat": 4,
 "nbformat_minor": 4
}
